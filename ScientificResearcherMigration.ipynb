{
 "cells": [
  {
   "cell_type": "markdown",
   "metadata": {
    "collapsed": true
   },
   "source": [
    "# Analysis of Scientific Researcher Migrations\n",
    "\n",
    "\n",
    "\n",
    "## Data exploration analysis and visualization.\n",
    "\n"
   ]
  },
  {
   "cell_type": "markdown",
   "metadata": {},
   "source": [
    "\n",
    "\n",
    "### Content of this notebook\n",
    "\n",
    "### 1- A quick look at the data structure\n",
    "### 2- Data cleaning\n",
    "### 3- A pre-analysis of Scientist phds migration \n",
    "             - Global phds migration\n",
    "             - Europe\n",
    "                . From Italy, France and United Kingdom\n",
    "             - Nord America\n",
    "                . From USA and Canada\n",
    "             - Asia\n",
    "                . From China and India\n",
    "             - From Australia and Brazil\n",
    "                \n",
    "### 4- Phds countries\n",
    "         \n",
    "         - Mapping of number of Phd Scientific Researchers with respect to countries\n",
    "### Conclusion"
   ]
  },
  {
   "cell_type": "markdown",
   "metadata": {},
   "source": [
    "# 1- A quick look at the data structure"
   ]
  },
  {
   "cell_type": "code",
   "execution_count": 1,
   "metadata": {},
   "outputs": [
    {
     "data": {
      "text/html": [
       "<script>requirejs.config({paths: { 'plotly': ['https://cdn.plot.ly/plotly-latest.min']},});if(!window.Plotly) {{require(['plotly'],function(plotly) {window.Plotly=plotly;});}}</script>"
      ],
      "text/vnd.plotly.v1+html": [
       "<script>requirejs.config({paths: { 'plotly': ['https://cdn.plot.ly/plotly-latest.min']},});if(!window.Plotly) {{require(['plotly'],function(plotly) {window.Plotly=plotly;});}}</script>"
      ]
     },
     "metadata": {},
     "output_type": "display_data"
    }
   ],
   "source": [
    "# import pandas to work on dataframe\n",
    "# matplotlib for visualization\n",
    "import pandas as pd  # data processing, CSV file I/O (e.g. pd.read_csv)\n",
    "import matplotlib.pyplot as plt\n",
    "# Import these library to plot the world mapping\n",
    "import plotly.offline as py\n",
    "py.init_notebook_mode(connected=True)\n",
    "import plotly.graph_objs as go\n",
    "import plotly.tools as tls\n",
    "\n",
    "%matplotlib inline"
   ]
  },
  {
   "cell_type": "code",
   "execution_count": 2,
   "metadata": {
    "collapsed": true
   },
   "outputs": [],
   "source": [
    "import warnings\n",
    "warnings.filterwarnings(\"ignore\")"
   ]
  },
  {
   "cell_type": "code",
   "execution_count": 3,
   "metadata": {},
   "outputs": [],
   "source": [
    "Df = pd.read_csv(\"ORCID_migrations_2016_12_16_by_person.csv\")"
   ]
  },
  {
   "cell_type": "code",
   "execution_count": 4,
   "metadata": {},
   "outputs": [
    {
     "data": {
      "text/plain": [
       "(741867, 8)"
      ]
     },
     "execution_count": 4,
     "metadata": {},
     "output_type": "execute_result"
    }
   ],
   "source": [
    "Df.shape"
   ]
  },
  {
   "cell_type": "code",
   "execution_count": 5,
   "metadata": {},
   "outputs": [
    {
     "data": {
      "text/html": [
       "<div>\n",
       "<style>\n",
       "    .dataframe thead tr:only-child th {\n",
       "        text-align: right;\n",
       "    }\n",
       "\n",
       "    .dataframe thead th {\n",
       "        text-align: left;\n",
       "    }\n",
       "\n",
       "    .dataframe tbody tr th {\n",
       "        vertical-align: top;\n",
       "    }\n",
       "</style>\n",
       "<table border=\"1\" class=\"dataframe\">\n",
       "  <thead>\n",
       "    <tr style=\"text-align: right;\">\n",
       "      <th></th>\n",
       "      <th>orcid_id</th>\n",
       "      <th>phd_year</th>\n",
       "      <th>country_2016</th>\n",
       "      <th>earliest_year</th>\n",
       "      <th>earliest_country</th>\n",
       "      <th>has_phd</th>\n",
       "      <th>phd_country</th>\n",
       "      <th>has_migrated</th>\n",
       "    </tr>\n",
       "  </thead>\n",
       "  <tbody>\n",
       "    <tr>\n",
       "      <th>0</th>\n",
       "      <td>0000-0001-5000-0138</td>\n",
       "      <td>NaN</td>\n",
       "      <td>CO</td>\n",
       "      <td>2014.0</td>\n",
       "      <td>CO</td>\n",
       "      <td>False</td>\n",
       "      <td>NaN</td>\n",
       "      <td>False</td>\n",
       "    </tr>\n",
       "    <tr>\n",
       "      <th>1</th>\n",
       "      <td>0000-0001-5000-0736</td>\n",
       "      <td>2006.0</td>\n",
       "      <td>NaN</td>\n",
       "      <td>NaN</td>\n",
       "      <td>NaN</td>\n",
       "      <td>True</td>\n",
       "      <td>PT</td>\n",
       "      <td>False</td>\n",
       "    </tr>\n",
       "    <tr>\n",
       "      <th>2</th>\n",
       "      <td>0000-0001-5000-1018</td>\n",
       "      <td>2015.0</td>\n",
       "      <td>US</td>\n",
       "      <td>2005.0</td>\n",
       "      <td>US</td>\n",
       "      <td>True</td>\n",
       "      <td>US</td>\n",
       "      <td>False</td>\n",
       "    </tr>\n",
       "    <tr>\n",
       "      <th>3</th>\n",
       "      <td>0000-0001-5000-1181</td>\n",
       "      <td>NaN</td>\n",
       "      <td>RU</td>\n",
       "      <td>1978.0</td>\n",
       "      <td>RU</td>\n",
       "      <td>False</td>\n",
       "      <td>NaN</td>\n",
       "      <td>False</td>\n",
       "    </tr>\n",
       "    <tr>\n",
       "      <th>4</th>\n",
       "      <td>0000-0001-5000-1923</td>\n",
       "      <td>2016.0</td>\n",
       "      <td>GB</td>\n",
       "      <td>2004.0</td>\n",
       "      <td>GB</td>\n",
       "      <td>True</td>\n",
       "      <td>GB</td>\n",
       "      <td>False</td>\n",
       "    </tr>\n",
       "  </tbody>\n",
       "</table>\n",
       "</div>"
      ],
      "text/plain": [
       "              orcid_id  phd_year country_2016  earliest_year earliest_country  \\\n",
       "0  0000-0001-5000-0138       NaN           CO         2014.0               CO   \n",
       "1  0000-0001-5000-0736    2006.0          NaN            NaN              NaN   \n",
       "2  0000-0001-5000-1018    2015.0           US         2005.0               US   \n",
       "3  0000-0001-5000-1181       NaN           RU         1978.0               RU   \n",
       "4  0000-0001-5000-1923    2016.0           GB         2004.0               GB   \n",
       "\n",
       "   has_phd phd_country  has_migrated  \n",
       "0    False         NaN         False  \n",
       "1     True          PT         False  \n",
       "2     True          US         False  \n",
       "3    False         NaN         False  \n",
       "4     True          GB         False  "
      ]
     },
     "execution_count": 5,
     "metadata": {},
     "output_type": "execute_result"
    }
   ],
   "source": [
    "Df.head()"
   ]
  },
  {
   "cell_type": "markdown",
   "metadata": {},
   "source": [
    " I notice that there are two categorial features: 'has_phd' and 'has_migrated'\n",
    " \n",
    "four features in string: 'country_2016',' earliest_country', 'phd_country' and 'orcid_id'.\n",
    "\n",
    "There are many missing values for  phd_year, country_2016, earliest_year, earliest_country, phd_country"
   ]
  },
  {
   "cell_type": "code",
   "execution_count": 6,
   "metadata": {},
   "outputs": [
    {
     "name": "stdout",
     "output_type": "stream",
     "text": [
      "<class 'pandas.core.frame.DataFrame'>\n",
      "RangeIndex: 741867 entries, 0 to 741866\n",
      "Data columns (total 8 columns):\n",
      "orcid_id            741867 non-null object\n",
      "phd_year            287295 non-null float64\n",
      "country_2016        500348 non-null object\n",
      "earliest_year       603531 non-null float64\n",
      "earliest_country    603495 non-null object\n",
      "has_phd             741867 non-null bool\n",
      "phd_country         315717 non-null object\n",
      "has_migrated        741867 non-null bool\n",
      "dtypes: bool(2), float64(2), object(4)\n",
      "memory usage: 35.4+ MB\n"
     ]
    }
   ],
   "source": [
    "Df.info()"
   ]
  },
  {
   "cell_type": "code",
   "execution_count": 7,
   "metadata": {},
   "outputs": [
    {
     "data": {
      "text/html": [
       "<div>\n",
       "<style>\n",
       "    .dataframe thead tr:only-child th {\n",
       "        text-align: right;\n",
       "    }\n",
       "\n",
       "    .dataframe thead th {\n",
       "        text-align: left;\n",
       "    }\n",
       "\n",
       "    .dataframe tbody tr th {\n",
       "        vertical-align: top;\n",
       "    }\n",
       "</style>\n",
       "<table border=\"1\" class=\"dataframe\">\n",
       "  <thead>\n",
       "    <tr style=\"text-align: right;\">\n",
       "      <th></th>\n",
       "      <th>phd_year</th>\n",
       "      <th>earliest_year</th>\n",
       "    </tr>\n",
       "  </thead>\n",
       "  <tbody>\n",
       "    <tr>\n",
       "      <th>count</th>\n",
       "      <td>287295.000000</td>\n",
       "      <td>603531.000000</td>\n",
       "    </tr>\n",
       "    <tr>\n",
       "      <th>mean</th>\n",
       "      <td>2007.581897</td>\n",
       "      <td>2000.222298</td>\n",
       "    </tr>\n",
       "    <tr>\n",
       "      <th>std</th>\n",
       "      <td>10.211547</td>\n",
       "      <td>11.875419</td>\n",
       "    </tr>\n",
       "    <tr>\n",
       "      <th>min</th>\n",
       "      <td>1913.000000</td>\n",
       "      <td>1913.000000</td>\n",
       "    </tr>\n",
       "    <tr>\n",
       "      <th>25%</th>\n",
       "      <td>2003.000000</td>\n",
       "      <td>1994.000000</td>\n",
       "    </tr>\n",
       "    <tr>\n",
       "      <th>50%</th>\n",
       "      <td>2011.000000</td>\n",
       "      <td>2003.000000</td>\n",
       "    </tr>\n",
       "    <tr>\n",
       "      <th>75%</th>\n",
       "      <td>2016.000000</td>\n",
       "      <td>2009.000000</td>\n",
       "    </tr>\n",
       "    <tr>\n",
       "      <th>max</th>\n",
       "      <td>2017.000000</td>\n",
       "      <td>2017.000000</td>\n",
       "    </tr>\n",
       "  </tbody>\n",
       "</table>\n",
       "</div>"
      ],
      "text/plain": [
       "            phd_year  earliest_year\n",
       "count  287295.000000  603531.000000\n",
       "mean     2007.581897    2000.222298\n",
       "std        10.211547      11.875419\n",
       "min      1913.000000    1913.000000\n",
       "25%      2003.000000    1994.000000\n",
       "50%      2011.000000    2003.000000\n",
       "75%      2016.000000    2009.000000\n",
       "max      2017.000000    2017.000000"
      ]
     },
     "execution_count": 7,
     "metadata": {},
     "output_type": "execute_result"
    }
   ],
   "source": [
    "# Let us take look on the description of the two numerical features of the data\n",
    "Df.describe()"
   ]
  },
  {
   "cell_type": "markdown",
   "metadata": {},
   "source": [
    "Let us plot the histogram of numerical and categorical features"
   ]
  },
  {
   "cell_type": "code",
   "execution_count": 8,
   "metadata": {},
   "outputs": [
    {
     "data": {
      "image/png": "[encoded data removed]",
      "text/plain": [
       "<matplotlib.figure.Figure at 0x2506163e940>"
      ]
     },
     "metadata": {},
     "output_type": "display_data"
    }
   ],
   "source": [
    "Df.hist(bins=10,figsize=(15,8), alpha=0.5)\n",
    "plt.show()"
   ]
  },
  {
   "cell_type": "markdown",
   "metadata": {
    "collapsed": true
   },
   "source": [
    "# 2-  Data cleaning"
   ]
  },
  {
   "cell_type": "markdown",
   "metadata": {},
   "source": [
    "I make the asumption that the mean of ph.d duration is four years. This could be other number"
   ]
  },
  {
   "cell_type": "code",
   "execution_count": 9,
   "metadata": {},
   "outputs": [
    {
     "data": {
      "text/html": [
       "<div>\n",
       "<style>\n",
       "    .dataframe thead tr:only-child th {\n",
       "        text-align: right;\n",
       "    }\n",
       "\n",
       "    .dataframe thead th {\n",
       "        text-align: left;\n",
       "    }\n",
       "\n",
       "    .dataframe tbody tr th {\n",
       "        vertical-align: top;\n",
       "    }\n",
       "</style>\n",
       "<table border=\"1\" class=\"dataframe\">\n",
       "  <thead>\n",
       "    <tr style=\"text-align: right;\">\n",
       "      <th></th>\n",
       "      <th>orcid_id</th>\n",
       "      <th>phd_year</th>\n",
       "      <th>country_2016</th>\n",
       "      <th>earliest_year</th>\n",
       "      <th>earliest_country</th>\n",
       "      <th>has_phd</th>\n",
       "      <th>phd_country</th>\n",
       "      <th>has_migrated</th>\n",
       "    </tr>\n",
       "  </thead>\n",
       "  <tbody>\n",
       "    <tr>\n",
       "      <th>1</th>\n",
       "      <td>0000-0001-5000-0736</td>\n",
       "      <td>2006.0</td>\n",
       "      <td>NaN</td>\n",
       "      <td>NaN</td>\n",
       "      <td>NaN</td>\n",
       "      <td>True</td>\n",
       "      <td>PT</td>\n",
       "      <td>False</td>\n",
       "    </tr>\n",
       "    <tr>\n",
       "      <th>2</th>\n",
       "      <td>0000-0001-5000-1018</td>\n",
       "      <td>2015.0</td>\n",
       "      <td>US</td>\n",
       "      <td>2005.0</td>\n",
       "      <td>US</td>\n",
       "      <td>True</td>\n",
       "      <td>US</td>\n",
       "      <td>False</td>\n",
       "    </tr>\n",
       "    <tr>\n",
       "      <th>4</th>\n",
       "      <td>0000-0001-5000-1923</td>\n",
       "      <td>2016.0</td>\n",
       "      <td>GB</td>\n",
       "      <td>2004.0</td>\n",
       "      <td>GB</td>\n",
       "      <td>True</td>\n",
       "      <td>GB</td>\n",
       "      <td>False</td>\n",
       "    </tr>\n",
       "    <tr>\n",
       "      <th>5</th>\n",
       "      <td>0000-0001-5000-223X</td>\n",
       "      <td>1998.0</td>\n",
       "      <td>GB</td>\n",
       "      <td>1989.0</td>\n",
       "      <td>GB</td>\n",
       "      <td>True</td>\n",
       "      <td>GB</td>\n",
       "      <td>True</td>\n",
       "    </tr>\n",
       "    <tr>\n",
       "      <th>7</th>\n",
       "      <td>0000-0001-5000-311X</td>\n",
       "      <td>2002.0</td>\n",
       "      <td>NaN</td>\n",
       "      <td>NaN</td>\n",
       "      <td>NaN</td>\n",
       "      <td>True</td>\n",
       "      <td>SE</td>\n",
       "      <td>False</td>\n",
       "    </tr>\n",
       "  </tbody>\n",
       "</table>\n",
       "</div>"
      ],
      "text/plain": [
       "              orcid_id  phd_year country_2016  earliest_year earliest_country  \\\n",
       "1  0000-0001-5000-0736    2006.0          NaN            NaN              NaN   \n",
       "2  0000-0001-5000-1018    2015.0           US         2005.0               US   \n",
       "4  0000-0001-5000-1923    2016.0           GB         2004.0               GB   \n",
       "5  0000-0001-5000-223X    1998.0           GB         1989.0               GB   \n",
       "7  0000-0001-5000-311X    2002.0          NaN            NaN              NaN   \n",
       "\n",
       "   has_phd phd_country  has_migrated  \n",
       "1     True          PT         False  \n",
       "2     True          US         False  \n",
       "4     True          GB         False  \n",
       "5     True          GB          True  \n",
       "7     True          SE         False  "
      ]
     },
     "execution_count": 9,
     "metadata": {},
     "output_type": "execute_result"
    }
   ],
   "source": [
    "# I just look at the data where phd_year is not NaN. \n",
    "Df[Df['phd_year'].isnull()==False].head()"
   ]
  },
  {
   "cell_type": "markdown",
   "metadata": {},
   "source": [
    "I define two fuctions to clean phd_ year and earliest_year"
   ]
  },
  {
   "cell_type": "code",
   "execution_count": 10,
   "metadata": {
    "collapsed": true
   },
   "outputs": [],
   "source": [
    "def cleanyear(phdYear,earliest):\n",
    "    if (phdYear==phdYear) & (earliest!=earliest):\n",
    "        return phdYear-4\n",
    "    else:\n",
    "        return earliest"
   ]
  },
  {
   "cell_type": "code",
   "execution_count": 11,
   "metadata": {
    "collapsed": true
   },
   "outputs": [],
   "source": [
    "Df['earliest_year'] = [ cleanyear(x,y) for (x,y) in  zip(Df['phd_year'], Df['earliest_year']) ]"
   ]
  },
  {
   "cell_type": "code",
   "execution_count": 12,
   "metadata": {},
   "outputs": [
    {
     "data": {
      "text/html": [
       "<div>\n",
       "<style>\n",
       "    .dataframe thead tr:only-child th {\n",
       "        text-align: right;\n",
       "    }\n",
       "\n",
       "    .dataframe thead th {\n",
       "        text-align: left;\n",
       "    }\n",
       "\n",
       "    .dataframe tbody tr th {\n",
       "        vertical-align: top;\n",
       "    }\n",
       "</style>\n",
       "<table border=\"1\" class=\"dataframe\">\n",
       "  <thead>\n",
       "    <tr style=\"text-align: right;\">\n",
       "      <th></th>\n",
       "      <th>orcid_id</th>\n",
       "      <th>phd_year</th>\n",
       "      <th>country_2016</th>\n",
       "      <th>earliest_year</th>\n",
       "      <th>earliest_country</th>\n",
       "      <th>has_phd</th>\n",
       "      <th>phd_country</th>\n",
       "      <th>has_migrated</th>\n",
       "    </tr>\n",
       "  </thead>\n",
       "  <tbody>\n",
       "    <tr>\n",
       "      <th>1</th>\n",
       "      <td>0000-0001-5000-0736</td>\n",
       "      <td>2006.0</td>\n",
       "      <td>NaN</td>\n",
       "      <td>2002.0</td>\n",
       "      <td>NaN</td>\n",
       "      <td>True</td>\n",
       "      <td>PT</td>\n",
       "      <td>False</td>\n",
       "    </tr>\n",
       "    <tr>\n",
       "      <th>2</th>\n",
       "      <td>0000-0001-5000-1018</td>\n",
       "      <td>2015.0</td>\n",
       "      <td>US</td>\n",
       "      <td>2005.0</td>\n",
       "      <td>US</td>\n",
       "      <td>True</td>\n",
       "      <td>US</td>\n",
       "      <td>False</td>\n",
       "    </tr>\n",
       "    <tr>\n",
       "      <th>4</th>\n",
       "      <td>0000-0001-5000-1923</td>\n",
       "      <td>2016.0</td>\n",
       "      <td>GB</td>\n",
       "      <td>2004.0</td>\n",
       "      <td>GB</td>\n",
       "      <td>True</td>\n",
       "      <td>GB</td>\n",
       "      <td>False</td>\n",
       "    </tr>\n",
       "    <tr>\n",
       "      <th>5</th>\n",
       "      <td>0000-0001-5000-223X</td>\n",
       "      <td>1998.0</td>\n",
       "      <td>GB</td>\n",
       "      <td>1989.0</td>\n",
       "      <td>GB</td>\n",
       "      <td>True</td>\n",
       "      <td>GB</td>\n",
       "      <td>True</td>\n",
       "    </tr>\n",
       "    <tr>\n",
       "      <th>7</th>\n",
       "      <td>0000-0001-5000-311X</td>\n",
       "      <td>2002.0</td>\n",
       "      <td>NaN</td>\n",
       "      <td>1998.0</td>\n",
       "      <td>NaN</td>\n",
       "      <td>True</td>\n",
       "      <td>SE</td>\n",
       "      <td>False</td>\n",
       "    </tr>\n",
       "  </tbody>\n",
       "</table>\n",
       "</div>"
      ],
      "text/plain": [
       "              orcid_id  phd_year country_2016  earliest_year earliest_country  \\\n",
       "1  0000-0001-5000-0736    2006.0          NaN         2002.0              NaN   \n",
       "2  0000-0001-5000-1018    2015.0           US         2005.0               US   \n",
       "4  0000-0001-5000-1923    2016.0           GB         2004.0               GB   \n",
       "5  0000-0001-5000-223X    1998.0           GB         1989.0               GB   \n",
       "7  0000-0001-5000-311X    2002.0          NaN         1998.0              NaN   \n",
       "\n",
       "   has_phd phd_country  has_migrated  \n",
       "1     True          PT         False  \n",
       "2     True          US         False  \n",
       "4     True          GB         False  \n",
       "5     True          GB          True  \n",
       "7     True          SE         False  "
      ]
     },
     "execution_count": 12,
     "metadata": {},
     "output_type": "execute_result"
    }
   ],
   "source": [
    "Df[Df['phd_year'].isnull()==False].head()"
   ]
  },
  {
   "cell_type": "code",
   "execution_count": 13,
   "metadata": {
    "collapsed": true
   },
   "outputs": [],
   "source": [
    "def cleanyearv2(phdYear,earliest,hasPhd):\n",
    "    if (phdYear!=phdYear) & (earliest==earliest) & (hasPhd==True) :\n",
    "        return earliest+4\n",
    "    else:\n",
    "        return phdYear"
   ]
  },
  {
   "cell_type": "code",
   "execution_count": 14,
   "metadata": {
    "collapsed": true
   },
   "outputs": [],
   "source": [
    "Df['phd_year'] = [ cleanyearv2(x,y,z) for (x,y,z) in  zip(Df['phd_year'], Df['earliest_year'],Df['has_phd']) ]"
   ]
  },
  {
   "cell_type": "code",
   "execution_count": 15,
   "metadata": {},
   "outputs": [
    {
     "name": "stdout",
     "output_type": "stream",
     "text": [
      "<class 'pandas.core.frame.DataFrame'>\n",
      "RangeIndex: 741867 entries, 0 to 741866\n",
      "Data columns (total 8 columns):\n",
      "orcid_id            741867 non-null object\n",
      "phd_year            305776 non-null float64\n",
      "country_2016        500348 non-null object\n",
      "earliest_year       610927 non-null float64\n",
      "earliest_country    603495 non-null object\n",
      "has_phd             741867 non-null bool\n",
      "phd_country         315717 non-null object\n",
      "has_migrated        741867 non-null bool\n",
      "dtypes: bool(2), float64(2), object(4)\n",
      "memory usage: 35.4+ MB\n"
     ]
    }
   ],
   "source": [
    "Df.info()"
   ]
  },
  {
   "cell_type": "code",
   "execution_count": 16,
   "metadata": {},
   "outputs": [
    {
     "data": {
      "text/html": [
       "<div>\n",
       "<style>\n",
       "    .dataframe thead tr:only-child th {\n",
       "        text-align: right;\n",
       "    }\n",
       "\n",
       "    .dataframe thead th {\n",
       "        text-align: left;\n",
       "    }\n",
       "\n",
       "    .dataframe tbody tr th {\n",
       "        vertical-align: top;\n",
       "    }\n",
       "</style>\n",
       "<table border=\"1\" class=\"dataframe\">\n",
       "  <thead>\n",
       "    <tr style=\"text-align: right;\">\n",
       "      <th></th>\n",
       "      <th>orcid_id</th>\n",
       "      <th>phd_year</th>\n",
       "      <th>country_2016</th>\n",
       "      <th>earliest_year</th>\n",
       "      <th>earliest_country</th>\n",
       "      <th>has_phd</th>\n",
       "      <th>phd_country</th>\n",
       "      <th>has_migrated</th>\n",
       "    </tr>\n",
       "  </thead>\n",
       "  <tbody>\n",
       "    <tr>\n",
       "      <th>598</th>\n",
       "      <td>0000-0001-5015-9712</td>\n",
       "      <td>2018.0</td>\n",
       "      <td>MY</td>\n",
       "      <td>2014.0</td>\n",
       "      <td>MY</td>\n",
       "      <td>True</td>\n",
       "      <td>MY</td>\n",
       "      <td>False</td>\n",
       "    </tr>\n",
       "    <tr>\n",
       "      <th>1395</th>\n",
       "      <td>0000-0001-5038-7328</td>\n",
       "      <td>2018.0</td>\n",
       "      <td>PT</td>\n",
       "      <td>2014.0</td>\n",
       "      <td>PT</td>\n",
       "      <td>True</td>\n",
       "      <td>IT</td>\n",
       "      <td>True</td>\n",
       "    </tr>\n",
       "  </tbody>\n",
       "</table>\n",
       "</div>"
      ],
      "text/plain": [
       "                 orcid_id  phd_year country_2016  earliest_year  \\\n",
       "598   0000-0001-5015-9712    2018.0           MY         2014.0   \n",
       "1395  0000-0001-5038-7328    2018.0           PT         2014.0   \n",
       "\n",
       "     earliest_country  has_phd phd_country  has_migrated  \n",
       "598                MY     True          MY         False  \n",
       "1395               PT     True          IT          True  "
      ]
     },
     "execution_count": 16,
     "metadata": {},
     "output_type": "execute_result"
    }
   ],
   "source": [
    "# One can notice that after this cleaning operation, we get some phd_years greater than 2017.\n",
    "Df[Df['phd_year']==2018].head(2)"
   ]
  },
  {
   "cell_type": "markdown",
   "metadata": {},
   "source": [
    "As dataset is collected on 2017 and after cleaning some NaN in phd_year  I noticed that some of them are greater than 2017, I decided to just replace them by 2017."
   ]
  },
  {
   "cell_type": "code",
   "execution_count": 17,
   "metadata": {
    "collapsed": true
   },
   "outputs": [],
   "source": [
    "def cleanyear2017(x):\n",
    "    if x>2017:\n",
    "        return 2017\n",
    "    else:\n",
    "        return x"
   ]
  },
  {
   "cell_type": "code",
   "execution_count": 18,
   "metadata": {
    "collapsed": true
   },
   "outputs": [],
   "source": [
    "Df['phd_year'] = [cleanyear2017(x) for x in Df['phd_year']]"
   ]
  },
  {
   "cell_type": "code",
   "execution_count": 19,
   "metadata": {},
   "outputs": [
    {
     "data": {
      "text/html": [
       "<div>\n",
       "<style>\n",
       "    .dataframe thead tr:only-child th {\n",
       "        text-align: right;\n",
       "    }\n",
       "\n",
       "    .dataframe thead th {\n",
       "        text-align: left;\n",
       "    }\n",
       "\n",
       "    .dataframe tbody tr th {\n",
       "        vertical-align: top;\n",
       "    }\n",
       "</style>\n",
       "<table border=\"1\" class=\"dataframe\">\n",
       "  <thead>\n",
       "    <tr style=\"text-align: right;\">\n",
       "      <th></th>\n",
       "      <th>orcid_id</th>\n",
       "      <th>phd_year</th>\n",
       "      <th>country_2016</th>\n",
       "      <th>earliest_year</th>\n",
       "      <th>earliest_country</th>\n",
       "      <th>has_phd</th>\n",
       "      <th>phd_country</th>\n",
       "      <th>has_migrated</th>\n",
       "    </tr>\n",
       "  </thead>\n",
       "  <tbody>\n",
       "  </tbody>\n",
       "</table>\n",
       "</div>"
      ],
      "text/plain": [
       "Empty DataFrame\n",
       "Columns: [orcid_id, phd_year, country_2016, earliest_year, earliest_country, has_phd, phd_country, has_migrated]\n",
       "Index: []"
      ]
     },
     "execution_count": 19,
     "metadata": {},
     "output_type": "execute_result"
    }
   ],
   "source": [
    "Df[Df['phd_year'] > 2017]"
   ]
  },
  {
   "cell_type": "code",
   "execution_count": 20,
   "metadata": {},
   "outputs": [
    {
     "data": {
      "text/plain": [
       "0"
      ]
     },
     "execution_count": 20,
     "metadata": {},
     "output_type": "execute_result"
    }
   ],
   "source": [
    "Df[Df['has_phd']==False]['phd_year'].count()"
   ]
  },
  {
   "cell_type": "code",
   "execution_count": 21,
   "metadata": {},
   "outputs": [
    {
     "data": {
      "text/plain": [
       "2017.0"
      ]
     },
     "execution_count": 21,
     "metadata": {},
     "output_type": "execute_result"
    }
   ],
   "source": [
    "Df['phd_year'].max()"
   ]
  },
  {
   "cell_type": "code",
   "execution_count": 22,
   "metadata": {
    "collapsed": true
   },
   "outputs": [],
   "source": [
    "# I look at the graduated cases\n",
    "graduated = Df[Df['has_phd']==True]"
   ]
  },
  {
   "cell_type": "code",
   "execution_count": 23,
   "metadata": {},
   "outputs": [
    {
     "data": {
      "text/html": [
       "<div>\n",
       "<style>\n",
       "    .dataframe thead tr:only-child th {\n",
       "        text-align: right;\n",
       "    }\n",
       "\n",
       "    .dataframe thead th {\n",
       "        text-align: left;\n",
       "    }\n",
       "\n",
       "    .dataframe tbody tr th {\n",
       "        vertical-align: top;\n",
       "    }\n",
       "</style>\n",
       "<table border=\"1\" class=\"dataframe\">\n",
       "  <thead>\n",
       "    <tr style=\"text-align: right;\">\n",
       "      <th></th>\n",
       "      <th>orcid_id</th>\n",
       "      <th>phd_year</th>\n",
       "      <th>country_2016</th>\n",
       "      <th>earliest_year</th>\n",
       "      <th>earliest_country</th>\n",
       "      <th>has_phd</th>\n",
       "      <th>phd_country</th>\n",
       "      <th>has_migrated</th>\n",
       "    </tr>\n",
       "  </thead>\n",
       "  <tbody>\n",
       "    <tr>\n",
       "      <th>1</th>\n",
       "      <td>0000-0001-5000-0736</td>\n",
       "      <td>2006.0</td>\n",
       "      <td>NaN</td>\n",
       "      <td>2002.0</td>\n",
       "      <td>NaN</td>\n",
       "      <td>True</td>\n",
       "      <td>PT</td>\n",
       "      <td>False</td>\n",
       "    </tr>\n",
       "    <tr>\n",
       "      <th>2</th>\n",
       "      <td>0000-0001-5000-1018</td>\n",
       "      <td>2015.0</td>\n",
       "      <td>US</td>\n",
       "      <td>2005.0</td>\n",
       "      <td>US</td>\n",
       "      <td>True</td>\n",
       "      <td>US</td>\n",
       "      <td>False</td>\n",
       "    </tr>\n",
       "    <tr>\n",
       "      <th>4</th>\n",
       "      <td>0000-0001-5000-1923</td>\n",
       "      <td>2016.0</td>\n",
       "      <td>GB</td>\n",
       "      <td>2004.0</td>\n",
       "      <td>GB</td>\n",
       "      <td>True</td>\n",
       "      <td>GB</td>\n",
       "      <td>False</td>\n",
       "    </tr>\n",
       "    <tr>\n",
       "      <th>5</th>\n",
       "      <td>0000-0001-5000-223X</td>\n",
       "      <td>1998.0</td>\n",
       "      <td>GB</td>\n",
       "      <td>1989.0</td>\n",
       "      <td>GB</td>\n",
       "      <td>True</td>\n",
       "      <td>GB</td>\n",
       "      <td>True</td>\n",
       "    </tr>\n",
       "    <tr>\n",
       "      <th>7</th>\n",
       "      <td>0000-0001-5000-311X</td>\n",
       "      <td>2002.0</td>\n",
       "      <td>NaN</td>\n",
       "      <td>1998.0</td>\n",
       "      <td>NaN</td>\n",
       "      <td>True</td>\n",
       "      <td>SE</td>\n",
       "      <td>False</td>\n",
       "    </tr>\n",
       "    <tr>\n",
       "      <th>8</th>\n",
       "      <td>0000-0001-5000-3822</td>\n",
       "      <td>2016.0</td>\n",
       "      <td>CA</td>\n",
       "      <td>1998.0</td>\n",
       "      <td>CA</td>\n",
       "      <td>True</td>\n",
       "      <td>CA</td>\n",
       "      <td>False</td>\n",
       "    </tr>\n",
       "    <tr>\n",
       "      <th>9</th>\n",
       "      <td>0000-0001-5000-4390</td>\n",
       "      <td>1986.0</td>\n",
       "      <td>NaN</td>\n",
       "      <td>1982.0</td>\n",
       "      <td>NaN</td>\n",
       "      <td>True</td>\n",
       "      <td>IN</td>\n",
       "      <td>False</td>\n",
       "    </tr>\n",
       "    <tr>\n",
       "      <th>14</th>\n",
       "      <td>0000-0001-5000-5959</td>\n",
       "      <td>2017.0</td>\n",
       "      <td>SE</td>\n",
       "      <td>2013.0</td>\n",
       "      <td>SE</td>\n",
       "      <td>True</td>\n",
       "      <td>NaN</td>\n",
       "      <td>False</td>\n",
       "    </tr>\n",
       "    <tr>\n",
       "      <th>15</th>\n",
       "      <td>0000-0001-5000-5991</td>\n",
       "      <td>2008.0</td>\n",
       "      <td>KR</td>\n",
       "      <td>2003.0</td>\n",
       "      <td>US</td>\n",
       "      <td>True</td>\n",
       "      <td>US</td>\n",
       "      <td>False</td>\n",
       "    </tr>\n",
       "    <tr>\n",
       "      <th>16</th>\n",
       "      <td>0000-0001-5000-6177</td>\n",
       "      <td>2011.0</td>\n",
       "      <td>GH</td>\n",
       "      <td>1999.0</td>\n",
       "      <td>GH</td>\n",
       "      <td>True</td>\n",
       "      <td>GH</td>\n",
       "      <td>False</td>\n",
       "    </tr>\n",
       "  </tbody>\n",
       "</table>\n",
       "</div>"
      ],
      "text/plain": [
       "               orcid_id  phd_year country_2016  earliest_year  \\\n",
       "1   0000-0001-5000-0736    2006.0          NaN         2002.0   \n",
       "2   0000-0001-5000-1018    2015.0           US         2005.0   \n",
       "4   0000-0001-5000-1923    2016.0           GB         2004.0   \n",
       "5   0000-0001-5000-223X    1998.0           GB         1989.0   \n",
       "7   0000-0001-5000-311X    2002.0          NaN         1998.0   \n",
       "8   0000-0001-5000-3822    2016.0           CA         1998.0   \n",
       "9   0000-0001-5000-4390    1986.0          NaN         1982.0   \n",
       "14  0000-0001-5000-5959    2017.0           SE         2013.0   \n",
       "15  0000-0001-5000-5991    2008.0           KR         2003.0   \n",
       "16  0000-0001-5000-6177    2011.0           GH         1999.0   \n",
       "\n",
       "   earliest_country  has_phd phd_country  has_migrated  \n",
       "1               NaN     True          PT         False  \n",
       "2                US     True          US         False  \n",
       "4                GB     True          GB         False  \n",
       "5                GB     True          GB          True  \n",
       "7               NaN     True          SE         False  \n",
       "8                CA     True          CA         False  \n",
       "9               NaN     True          IN         False  \n",
       "14               SE     True         NaN         False  \n",
       "15               US     True          US         False  \n",
       "16               GH     True          GH         False  "
      ]
     },
     "execution_count": 23,
     "metadata": {},
     "output_type": "execute_result"
    }
   ],
   "source": [
    "graduated.head(10)"
   ]
  },
  {
   "cell_type": "markdown",
   "metadata": {},
   "source": [
    " I notice that the phd_year of graduated Ph.Ds are all given here.\n",
    " \n",
    " It makes sens that for those who have not received their ph.d, their phd_year is NaN.\n",
    " \n",
    " One can notice also that for 741867 enrolled for ph.d (number of orcid_id in Df) \n",
    " \n",
    "just 329291 received their ph.d(which is 44.39 %)"
   ]
  },
  {
   "cell_type": "code",
   "execution_count": 24,
   "metadata": {
    "collapsed": true
   },
   "outputs": [],
   "source": [
    "# Phds researchers proportion with respect to enrolled for phd.\n",
    "proportion = Df[Df[\"has_phd\"]==True][\"orcid_id\"].count()/Df[\"orcid_id\"].count()"
   ]
  },
  {
   "cell_type": "code",
   "execution_count": 25,
   "metadata": {},
   "outputs": [
    {
     "name": "stdout",
     "output_type": "stream",
     "text": [
      "Percentage of graduated phds: 44.39 %\n",
      "<class 'pandas.core.frame.DataFrame'>\n",
      "Int64Index: 329291 entries, 1 to 741864\n",
      "Data columns (total 8 columns):\n",
      "orcid_id            329291 non-null object\n",
      "phd_year            305776 non-null float64\n",
      "country_2016        254544 non-null object\n",
      "earliest_year       305776 non-null float64\n",
      "earliest_country    298367 non-null object\n",
      "has_phd             329291 non-null bool\n",
      "phd_country         315717 non-null object\n",
      "has_migrated        329291 non-null bool\n",
      "dtypes: bool(2), float64(2), object(4)\n",
      "memory usage: 18.2+ MB\n"
     ]
    }
   ],
   "source": [
    "print(\"Percentage of graduated phds: {:.4}\".format(proportion*100)+\" %\")\n",
    "graduated.info()"
   ]
  },
  {
   "cell_type": "code",
   "execution_count": 26,
   "metadata": {},
   "outputs": [
    {
     "data": {
      "text/plain": [
       "<matplotlib.figure.Figure at 0x2506163ec50>"
      ]
     },
     "metadata": {},
     "output_type": "display_data"
    },
    {
     "data": {
      "image/png": "[encoded data removed]",
      "text/plain": [
       "<matplotlib.figure.Figure at 0x2505b9c72e8>"
      ]
     },
     "metadata": {},
     "output_type": "display_data"
    }
   ],
   "source": [
    "plt.figure();\n",
    "graduated.hist(bins=10,figsize=(15,8), alpha=0.5 )\n",
    "plt.show()"
   ]
  },
  {
   "cell_type": "markdown",
   "metadata": {},
   "source": [
    "# 3- A pre-analysis of Scientist phds migration ."
   ]
  },
  {
   "cell_type": "code",
   "execution_count": 27,
   "metadata": {
    "collapsed": true
   },
   "outputs": [],
   "source": [
    "MigrationOrNot = graduated.groupby('has_migrated').count()"
   ]
  },
  {
   "cell_type": "code",
   "execution_count": 28,
   "metadata": {},
   "outputs": [
    {
     "data": {
      "text/html": [
       "<div>\n",
       "<style>\n",
       "    .dataframe thead tr:only-child th {\n",
       "        text-align: right;\n",
       "    }\n",
       "\n",
       "    .dataframe thead th {\n",
       "        text-align: left;\n",
       "    }\n",
       "\n",
       "    .dataframe tbody tr th {\n",
       "        vertical-align: top;\n",
       "    }\n",
       "</style>\n",
       "<table border=\"1\" class=\"dataframe\">\n",
       "  <thead>\n",
       "    <tr style=\"text-align: right;\">\n",
       "      <th></th>\n",
       "      <th>orcid_id</th>\n",
       "      <th>phd_year</th>\n",
       "      <th>country_2016</th>\n",
       "      <th>earliest_year</th>\n",
       "      <th>earliest_country</th>\n",
       "      <th>has_phd</th>\n",
       "      <th>phd_country</th>\n",
       "    </tr>\n",
       "    <tr>\n",
       "      <th>has_migrated</th>\n",
       "      <th></th>\n",
       "      <th></th>\n",
       "      <th></th>\n",
       "      <th></th>\n",
       "      <th></th>\n",
       "      <th></th>\n",
       "      <th></th>\n",
       "    </tr>\n",
       "  </thead>\n",
       "  <tbody>\n",
       "    <tr>\n",
       "      <th>False</th>\n",
       "      <td>244902</td>\n",
       "      <td>222687</td>\n",
       "      <td>180923</td>\n",
       "      <td>222687</td>\n",
       "      <td>215976</td>\n",
       "      <td>244902</td>\n",
       "      <td>233078</td>\n",
       "    </tr>\n",
       "    <tr>\n",
       "      <th>True</th>\n",
       "      <td>84389</td>\n",
       "      <td>83089</td>\n",
       "      <td>73621</td>\n",
       "      <td>83089</td>\n",
       "      <td>82391</td>\n",
       "      <td>84389</td>\n",
       "      <td>82639</td>\n",
       "    </tr>\n",
       "  </tbody>\n",
       "</table>\n",
       "</div>"
      ],
      "text/plain": [
       "              orcid_id  phd_year  country_2016  earliest_year  \\\n",
       "has_migrated                                                    \n",
       "False           244902    222687        180923         222687   \n",
       "True             84389     83089         73621          83089   \n",
       "\n",
       "              earliest_country  has_phd  phd_country  \n",
       "has_migrated                                          \n",
       "False                   215976   244902       233078  \n",
       "True                     82391    84389        82639  "
      ]
     },
     "execution_count": 28,
     "metadata": {},
     "output_type": "execute_result"
    }
   ],
   "source": [
    "MigrationOrNot"
   ]
  },
  {
   "cell_type": "code",
   "execution_count": 29,
   "metadata": {},
   "outputs": [
    {
     "data": {
      "image/png": "[encoded data removed]",
      "text/plain": [
       "<matplotlib.figure.Figure at 0x2505be513c8>"
      ]
     },
     "metadata": {},
     "output_type": "display_data"
    }
   ],
   "source": [
    "fig = plt.figure(figsize=(8,8))\n",
    "explode = (0.,0.1)\n",
    "\n",
    "ax = fig.add_subplot(2,2,1)\n",
    "MigrationOrNot['has_phd'].plot(kind='bar', alpha=0.5)\n",
    "ax.spines['right'].set_visible(False)\n",
    "ax.spines['top'].set_visible(False)\n",
    "ax.set_ylabel('Number of has phds')\n",
    "plt.title('Migration of Phds')\n",
    "\n",
    "ax = fig.add_subplot(2,2,2)\n",
    "MigrationOrNot['has_phd'].plot(kind='pie', explode=explode, autopct='%1.1f%%')\n",
    "plt.title('Migration of Phds')\n",
    "\n",
    "plt.show()"
   ]
  },
  {
   "cell_type": "code",
   "execution_count": 30,
   "metadata": {
    "collapsed": true
   },
   "outputs": [],
   "source": [
    "PhdMigrated = graduated[graduated['has_migrated']== True]"
   ]
  },
  {
   "cell_type": "code",
   "execution_count": 31,
   "metadata": {},
   "outputs": [
    {
     "data": {
      "text/html": [
       "<div>\n",
       "<style>\n",
       "    .dataframe thead tr:only-child th {\n",
       "        text-align: right;\n",
       "    }\n",
       "\n",
       "    .dataframe thead th {\n",
       "        text-align: left;\n",
       "    }\n",
       "\n",
       "    .dataframe tbody tr th {\n",
       "        vertical-align: top;\n",
       "    }\n",
       "</style>\n",
       "<table border=\"1\" class=\"dataframe\">\n",
       "  <thead>\n",
       "    <tr style=\"text-align: right;\">\n",
       "      <th></th>\n",
       "      <th>orcid_id</th>\n",
       "      <th>phd_year</th>\n",
       "      <th>country_2016</th>\n",
       "      <th>earliest_year</th>\n",
       "      <th>earliest_country</th>\n",
       "      <th>has_phd</th>\n",
       "      <th>phd_country</th>\n",
       "      <th>has_migrated</th>\n",
       "    </tr>\n",
       "  </thead>\n",
       "  <tbody>\n",
       "    <tr>\n",
       "      <th>5</th>\n",
       "      <td>0000-0001-5000-223X</td>\n",
       "      <td>1998.0</td>\n",
       "      <td>GB</td>\n",
       "      <td>1989.0</td>\n",
       "      <td>GB</td>\n",
       "      <td>True</td>\n",
       "      <td>GB</td>\n",
       "      <td>True</td>\n",
       "    </tr>\n",
       "    <tr>\n",
       "      <th>21</th>\n",
       "      <td>0000-0001-5000-8017</td>\n",
       "      <td>2002.0</td>\n",
       "      <td>KE</td>\n",
       "      <td>1993.0</td>\n",
       "      <td>KE</td>\n",
       "      <td>True</td>\n",
       "      <td>DK</td>\n",
       "      <td>True</td>\n",
       "    </tr>\n",
       "    <tr>\n",
       "      <th>36</th>\n",
       "      <td>0000-0001-5001-2171</td>\n",
       "      <td>1993.0</td>\n",
       "      <td>NaN</td>\n",
       "      <td>1985.0</td>\n",
       "      <td>GB</td>\n",
       "      <td>True</td>\n",
       "      <td>GB</td>\n",
       "      <td>True</td>\n",
       "    </tr>\n",
       "    <tr>\n",
       "      <th>38</th>\n",
       "      <td>0000-0001-5001-3027</td>\n",
       "      <td>2010.0</td>\n",
       "      <td>IE</td>\n",
       "      <td>2002.0</td>\n",
       "      <td>IT</td>\n",
       "      <td>True</td>\n",
       "      <td>IT</td>\n",
       "      <td>True</td>\n",
       "    </tr>\n",
       "    <tr>\n",
       "      <th>45</th>\n",
       "      <td>0000-0001-5001-5495</td>\n",
       "      <td>2016.0</td>\n",
       "      <td>AU</td>\n",
       "      <td>1987.0</td>\n",
       "      <td>AU</td>\n",
       "      <td>True</td>\n",
       "      <td>AU</td>\n",
       "      <td>True</td>\n",
       "    </tr>\n",
       "  </tbody>\n",
       "</table>\n",
       "</div>"
      ],
      "text/plain": [
       "               orcid_id  phd_year country_2016  earliest_year  \\\n",
       "5   0000-0001-5000-223X    1998.0           GB         1989.0   \n",
       "21  0000-0001-5000-8017    2002.0           KE         1993.0   \n",
       "36  0000-0001-5001-2171    1993.0          NaN         1985.0   \n",
       "38  0000-0001-5001-3027    2010.0           IE         2002.0   \n",
       "45  0000-0001-5001-5495    2016.0           AU         1987.0   \n",
       "\n",
       "   earliest_country  has_phd phd_country  has_migrated  \n",
       "5                GB     True          GB          True  \n",
       "21               KE     True          DK          True  \n",
       "36               GB     True          GB          True  \n",
       "38               IT     True          IT          True  \n",
       "45               AU     True          AU          True  "
      ]
     },
     "execution_count": 31,
     "metadata": {},
     "output_type": "execute_result"
    }
   ],
   "source": [
    "PhdMigrated.head()"
   ]
  },
  {
   "cell_type": "code",
   "execution_count": 32,
   "metadata": {
    "collapsed": true
   },
   "outputs": [],
   "source": [
    "PhdMig = PhdMigrated.groupby('phd_year').count()"
   ]
  },
  {
   "cell_type": "markdown",
   "metadata": {},
   "source": [
    "I notice that, according to this data, the migration of PhDs started in 1952."
   ]
  },
  {
   "cell_type": "code",
   "execution_count": 33,
   "metadata": {},
   "outputs": [
    {
     "data": {
      "text/html": [
       "<div>\n",
       "<style>\n",
       "    .dataframe thead tr:only-child th {\n",
       "        text-align: right;\n",
       "    }\n",
       "\n",
       "    .dataframe thead th {\n",
       "        text-align: left;\n",
       "    }\n",
       "\n",
       "    .dataframe tbody tr th {\n",
       "        vertical-align: top;\n",
       "    }\n",
       "</style>\n",
       "<table border=\"1\" class=\"dataframe\">\n",
       "  <thead>\n",
       "    <tr style=\"text-align: right;\">\n",
       "      <th></th>\n",
       "      <th>orcid_id</th>\n",
       "      <th>country_2016</th>\n",
       "      <th>earliest_year</th>\n",
       "      <th>earliest_country</th>\n",
       "      <th>has_phd</th>\n",
       "      <th>phd_country</th>\n",
       "      <th>has_migrated</th>\n",
       "    </tr>\n",
       "    <tr>\n",
       "      <th>phd_year</th>\n",
       "      <th></th>\n",
       "      <th></th>\n",
       "      <th></th>\n",
       "      <th></th>\n",
       "      <th></th>\n",
       "      <th></th>\n",
       "      <th></th>\n",
       "    </tr>\n",
       "  </thead>\n",
       "  <tbody>\n",
       "    <tr>\n",
       "      <th>1952.0</th>\n",
       "      <td>1</td>\n",
       "      <td>1</td>\n",
       "      <td>1</td>\n",
       "      <td>1</td>\n",
       "      <td>1</td>\n",
       "      <td>1</td>\n",
       "      <td>1</td>\n",
       "    </tr>\n",
       "    <tr>\n",
       "      <th>1953.0</th>\n",
       "      <td>1</td>\n",
       "      <td>1</td>\n",
       "      <td>1</td>\n",
       "      <td>1</td>\n",
       "      <td>1</td>\n",
       "      <td>1</td>\n",
       "      <td>1</td>\n",
       "    </tr>\n",
       "    <tr>\n",
       "      <th>1954.0</th>\n",
       "      <td>4</td>\n",
       "      <td>2</td>\n",
       "      <td>4</td>\n",
       "      <td>4</td>\n",
       "      <td>4</td>\n",
       "      <td>4</td>\n",
       "      <td>4</td>\n",
       "    </tr>\n",
       "    <tr>\n",
       "      <th>1956.0</th>\n",
       "      <td>5</td>\n",
       "      <td>2</td>\n",
       "      <td>5</td>\n",
       "      <td>5</td>\n",
       "      <td>5</td>\n",
       "      <td>5</td>\n",
       "      <td>5</td>\n",
       "    </tr>\n",
       "    <tr>\n",
       "      <th>1957.0</th>\n",
       "      <td>5</td>\n",
       "      <td>3</td>\n",
       "      <td>5</td>\n",
       "      <td>4</td>\n",
       "      <td>5</td>\n",
       "      <td>5</td>\n",
       "      <td>5</td>\n",
       "    </tr>\n",
       "  </tbody>\n",
       "</table>\n",
       "</div>"
      ],
      "text/plain": [
       "          orcid_id  country_2016  earliest_year  earliest_country  has_phd  \\\n",
       "phd_year                                                                     \n",
       "1952.0           1             1              1                 1        1   \n",
       "1953.0           1             1              1                 1        1   \n",
       "1954.0           4             2              4                 4        4   \n",
       "1956.0           5             2              5                 5        5   \n",
       "1957.0           5             3              5                 4        5   \n",
       "\n",
       "          phd_country  has_migrated  \n",
       "phd_year                             \n",
       "1952.0              1             1  \n",
       "1953.0              1             1  \n",
       "1954.0              4             4  \n",
       "1956.0              5             5  \n",
       "1957.0              5             5  "
      ]
     },
     "execution_count": 33,
     "metadata": {},
     "output_type": "execute_result"
    }
   ],
   "source": [
    "PhdMig.head()"
   ]
  },
  {
   "cell_type": "code",
   "execution_count": 34,
   "metadata": {},
   "outputs": [
    {
     "data": {
      "text/html": [
       "<div>\n",
       "<style>\n",
       "    .dataframe thead tr:only-child th {\n",
       "        text-align: right;\n",
       "    }\n",
       "\n",
       "    .dataframe thead th {\n",
       "        text-align: left;\n",
       "    }\n",
       "\n",
       "    .dataframe tbody tr th {\n",
       "        vertical-align: top;\n",
       "    }\n",
       "</style>\n",
       "<table border=\"1\" class=\"dataframe\">\n",
       "  <thead>\n",
       "    <tr style=\"text-align: right;\">\n",
       "      <th></th>\n",
       "      <th>orcid_id</th>\n",
       "      <th>country_2016</th>\n",
       "      <th>earliest_year</th>\n",
       "      <th>earliest_country</th>\n",
       "      <th>has_phd</th>\n",
       "      <th>phd_country</th>\n",
       "      <th>has_migrated</th>\n",
       "    </tr>\n",
       "    <tr>\n",
       "      <th>phd_year</th>\n",
       "      <th></th>\n",
       "      <th></th>\n",
       "      <th></th>\n",
       "      <th></th>\n",
       "      <th></th>\n",
       "      <th></th>\n",
       "      <th></th>\n",
       "    </tr>\n",
       "  </thead>\n",
       "  <tbody>\n",
       "    <tr>\n",
       "      <th>1973.0</th>\n",
       "      <td>109</td>\n",
       "      <td>76</td>\n",
       "      <td>109</td>\n",
       "      <td>108</td>\n",
       "      <td>109</td>\n",
       "      <td>107</td>\n",
       "      <td>109</td>\n",
       "    </tr>\n",
       "    <tr>\n",
       "      <th>1974.0</th>\n",
       "      <td>145</td>\n",
       "      <td>103</td>\n",
       "      <td>145</td>\n",
       "      <td>141</td>\n",
       "      <td>145</td>\n",
       "      <td>145</td>\n",
       "      <td>145</td>\n",
       "    </tr>\n",
       "    <tr>\n",
       "      <th>1975.0</th>\n",
       "      <td>163</td>\n",
       "      <td>123</td>\n",
       "      <td>163</td>\n",
       "      <td>162</td>\n",
       "      <td>163</td>\n",
       "      <td>163</td>\n",
       "      <td>163</td>\n",
       "    </tr>\n",
       "    <tr>\n",
       "      <th>1976.0</th>\n",
       "      <td>177</td>\n",
       "      <td>140</td>\n",
       "      <td>177</td>\n",
       "      <td>175</td>\n",
       "      <td>177</td>\n",
       "      <td>174</td>\n",
       "      <td>177</td>\n",
       "    </tr>\n",
       "    <tr>\n",
       "      <th>1977.0</th>\n",
       "      <td>175</td>\n",
       "      <td>143</td>\n",
       "      <td>175</td>\n",
       "      <td>174</td>\n",
       "      <td>175</td>\n",
       "      <td>173</td>\n",
       "      <td>175</td>\n",
       "    </tr>\n",
       "    <tr>\n",
       "      <th>1978.0</th>\n",
       "      <td>223</td>\n",
       "      <td>186</td>\n",
       "      <td>223</td>\n",
       "      <td>220</td>\n",
       "      <td>223</td>\n",
       "      <td>221</td>\n",
       "      <td>223</td>\n",
       "    </tr>\n",
       "    <tr>\n",
       "      <th>1979.0</th>\n",
       "      <td>229</td>\n",
       "      <td>190</td>\n",
       "      <td>229</td>\n",
       "      <td>228</td>\n",
       "      <td>229</td>\n",
       "      <td>225</td>\n",
       "      <td>229</td>\n",
       "    </tr>\n",
       "    <tr>\n",
       "      <th>1980.0</th>\n",
       "      <td>266</td>\n",
       "      <td>223</td>\n",
       "      <td>266</td>\n",
       "      <td>265</td>\n",
       "      <td>266</td>\n",
       "      <td>261</td>\n",
       "      <td>266</td>\n",
       "    </tr>\n",
       "    <tr>\n",
       "      <th>1981.0</th>\n",
       "      <td>260</td>\n",
       "      <td>232</td>\n",
       "      <td>260</td>\n",
       "      <td>255</td>\n",
       "      <td>260</td>\n",
       "      <td>257</td>\n",
       "      <td>260</td>\n",
       "    </tr>\n",
       "    <tr>\n",
       "      <th>1982.0</th>\n",
       "      <td>329</td>\n",
       "      <td>270</td>\n",
       "      <td>329</td>\n",
       "      <td>328</td>\n",
       "      <td>329</td>\n",
       "      <td>324</td>\n",
       "      <td>329</td>\n",
       "    </tr>\n",
       "  </tbody>\n",
       "</table>\n",
       "</div>"
      ],
      "text/plain": [
       "          orcid_id  country_2016  earliest_year  earliest_country  has_phd  \\\n",
       "phd_year                                                                     \n",
       "1973.0         109            76            109               108      109   \n",
       "1974.0         145           103            145               141      145   \n",
       "1975.0         163           123            163               162      163   \n",
       "1976.0         177           140            177               175      177   \n",
       "1977.0         175           143            175               174      175   \n",
       "1978.0         223           186            223               220      223   \n",
       "1979.0         229           190            229               228      229   \n",
       "1980.0         266           223            266               265      266   \n",
       "1981.0         260           232            260               255      260   \n",
       "1982.0         329           270            329               328      329   \n",
       "\n",
       "          phd_country  has_migrated  \n",
       "phd_year                             \n",
       "1973.0            107           109  \n",
       "1974.0            145           145  \n",
       "1975.0            163           163  \n",
       "1976.0            174           177  \n",
       "1977.0            173           175  \n",
       "1978.0            221           223  \n",
       "1979.0            225           229  \n",
       "1980.0            261           266  \n",
       "1981.0            257           260  \n",
       "1982.0            324           329  "
      ]
     },
     "execution_count": 34,
     "metadata": {},
     "output_type": "execute_result"
    }
   ],
   "source": [
    "PhdMig.iloc[20:30]"
   ]
  },
  {
   "cell_type": "code",
   "execution_count": 35,
   "metadata": {},
   "outputs": [
    {
     "name": "stdout",
     "output_type": "stream",
     "text": [
      "<class 'pandas.core.frame.DataFrame'>\n",
      "Float64Index: 65 entries, 1952.0 to 2017.0\n",
      "Data columns (total 7 columns):\n",
      "orcid_id            65 non-null int64\n",
      "country_2016        65 non-null int64\n",
      "earliest_year       65 non-null int64\n",
      "earliest_country    65 non-null int64\n",
      "has_phd             65 non-null int64\n",
      "phd_country         65 non-null int64\n",
      "has_migrated        65 non-null int64\n",
      "dtypes: int64(7)\n",
      "memory usage: 4.1 KB\n"
     ]
    }
   ],
   "source": [
    "PhdMig.info()"
   ]
  },
  {
   "cell_type": "markdown",
   "metadata": {},
   "source": [
    "#                           - Global Scientist phds migration."
   ]
  },
  {
   "cell_type": "markdown",
   "metadata": {},
   "source": [
    " I notice that the trend of the number of Researchers who migrated is increasing with a deep in 2015. I don't understand the deep point, may be I need more information to explain it. The last part of the  curve could say that this migration will increase in the future! But the data here don't help me find the causes."
   ]
  },
  {
   "cell_type": "code",
   "execution_count": 36,
   "metadata": {},
   "outputs": [
    {
     "data": {
      "text/html": [
       "<div>\n",
       "<style>\n",
       "    .dataframe thead tr:only-child th {\n",
       "        text-align: right;\n",
       "    }\n",
       "\n",
       "    .dataframe thead th {\n",
       "        text-align: left;\n",
       "    }\n",
       "\n",
       "    .dataframe tbody tr th {\n",
       "        vertical-align: top;\n",
       "    }\n",
       "</style>\n",
       "<table border=\"1\" class=\"dataframe\">\n",
       "  <thead>\n",
       "    <tr style=\"text-align: right;\">\n",
       "      <th></th>\n",
       "      <th>orcid_id</th>\n",
       "      <th>country_2016</th>\n",
       "      <th>earliest_year</th>\n",
       "      <th>earliest_country</th>\n",
       "      <th>has_phd</th>\n",
       "      <th>phd_country</th>\n",
       "      <th>has_migrated</th>\n",
       "    </tr>\n",
       "    <tr>\n",
       "      <th>phd_year</th>\n",
       "      <th></th>\n",
       "      <th></th>\n",
       "      <th></th>\n",
       "      <th></th>\n",
       "      <th></th>\n",
       "      <th></th>\n",
       "      <th></th>\n",
       "    </tr>\n",
       "  </thead>\n",
       "  <tbody>\n",
       "    <tr>\n",
       "      <th>2013.0</th>\n",
       "      <td>5103</td>\n",
       "      <td>4466</td>\n",
       "      <td>5103</td>\n",
       "      <td>5064</td>\n",
       "      <td>5103</td>\n",
       "      <td>4988</td>\n",
       "      <td>5103</td>\n",
       "    </tr>\n",
       "    <tr>\n",
       "      <th>2014.0</th>\n",
       "      <td>4749</td>\n",
       "      <td>3895</td>\n",
       "      <td>4749</td>\n",
       "      <td>4702</td>\n",
       "      <td>4749</td>\n",
       "      <td>4682</td>\n",
       "      <td>4749</td>\n",
       "    </tr>\n",
       "    <tr>\n",
       "      <th>2015.0</th>\n",
       "      <td>3892</td>\n",
       "      <td>2889</td>\n",
       "      <td>3892</td>\n",
       "      <td>3850</td>\n",
       "      <td>3892</td>\n",
       "      <td>3843</td>\n",
       "      <td>3892</td>\n",
       "    </tr>\n",
       "    <tr>\n",
       "      <th>2016.0</th>\n",
       "      <td>11805</td>\n",
       "      <td>11796</td>\n",
       "      <td>11805</td>\n",
       "      <td>11778</td>\n",
       "      <td>11805</td>\n",
       "      <td>11788</td>\n",
       "      <td>11805</td>\n",
       "    </tr>\n",
       "    <tr>\n",
       "      <th>2017.0</th>\n",
       "      <td>501</td>\n",
       "      <td>395</td>\n",
       "      <td>501</td>\n",
       "      <td>500</td>\n",
       "      <td>501</td>\n",
       "      <td>455</td>\n",
       "      <td>501</td>\n",
       "    </tr>\n",
       "  </tbody>\n",
       "</table>\n",
       "</div>"
      ],
      "text/plain": [
       "          orcid_id  country_2016  earliest_year  earliest_country  has_phd  \\\n",
       "phd_year                                                                     \n",
       "2013.0        5103          4466           5103              5064     5103   \n",
       "2014.0        4749          3895           4749              4702     4749   \n",
       "2015.0        3892          2889           3892              3850     3892   \n",
       "2016.0       11805         11796          11805             11778    11805   \n",
       "2017.0         501           395            501               500      501   \n",
       "\n",
       "          phd_country  has_migrated  \n",
       "phd_year                             \n",
       "2013.0           4988          5103  \n",
       "2014.0           4682          4749  \n",
       "2015.0           3843          3892  \n",
       "2016.0          11788         11805  \n",
       "2017.0            455           501  "
      ]
     },
     "execution_count": 36,
     "metadata": {},
     "output_type": "execute_result"
    }
   ],
   "source": [
    "PhdMig.iloc[60:]"
   ]
  },
  {
   "cell_type": "code",
   "execution_count": 37,
   "metadata": {
    "collapsed": true
   },
   "outputs": [],
   "source": [
    "# In this construction I drop the year 2017, because the data was collected partially and this fact could biase the analysis\n",
    "X = list(PhdMig.index.values)[:64]"
   ]
  },
  {
   "cell_type": "code",
   "execution_count": 38,
   "metadata": {},
   "outputs": [
    {
     "data": {
      "image/png": "[encoded data removed]",
      "text/plain": [
       "<matplotlib.figure.Figure at 0x2505bed8470>"
      ]
     },
     "metadata": {},
     "output_type": "display_data"
    }
   ],
   "source": [
    "x_values = X\n",
    "y_values = PhdMig['has_migrated'].iloc[:64]\n",
    "\n",
    "fig = plt.figure(figsize=(7,6))\n",
    "ax = fig.add_subplot(1,1,1)\n",
    "ax.plot(x_values, y_values, c='blue')\n",
    "ax.spines['right'].set_visible(False)\n",
    "ax.spines['top'].set_visible(False)\n",
    "ax.set_ylabel('Phd Migrated')\n",
    "ax.set_title('Migration of PhDs')\n",
    "\n",
    "plt.show()"
   ]
  },
  {
   "cell_type": "code",
   "execution_count": 39,
   "metadata": {
    "collapsed": true
   },
   "outputs": [],
   "source": [
    "GraduatedYear = graduated.groupby('phd_year').count()"
   ]
  },
  {
   "cell_type": "code",
   "execution_count": 40,
   "metadata": {},
   "outputs": [
    {
     "data": {
      "text/html": [
       "<div>\n",
       "<style>\n",
       "    .dataframe thead tr:only-child th {\n",
       "        text-align: right;\n",
       "    }\n",
       "\n",
       "    .dataframe thead th {\n",
       "        text-align: left;\n",
       "    }\n",
       "\n",
       "    .dataframe tbody tr th {\n",
       "        vertical-align: top;\n",
       "    }\n",
       "</style>\n",
       "<table border=\"1\" class=\"dataframe\">\n",
       "  <thead>\n",
       "    <tr style=\"text-align: right;\">\n",
       "      <th></th>\n",
       "      <th>orcid_id</th>\n",
       "      <th>country_2016</th>\n",
       "      <th>earliest_year</th>\n",
       "      <th>earliest_country</th>\n",
       "      <th>has_phd</th>\n",
       "      <th>phd_country</th>\n",
       "      <th>has_migrated</th>\n",
       "    </tr>\n",
       "    <tr>\n",
       "      <th>phd_year</th>\n",
       "      <th></th>\n",
       "      <th></th>\n",
       "      <th></th>\n",
       "      <th></th>\n",
       "      <th></th>\n",
       "      <th></th>\n",
       "      <th></th>\n",
       "    </tr>\n",
       "  </thead>\n",
       "  <tbody>\n",
       "    <tr>\n",
       "      <th>1913.0</th>\n",
       "      <td>1</td>\n",
       "      <td>0</td>\n",
       "      <td>1</td>\n",
       "      <td>0</td>\n",
       "      <td>1</td>\n",
       "      <td>1</td>\n",
       "      <td>1</td>\n",
       "    </tr>\n",
       "    <tr>\n",
       "      <th>1941.0</th>\n",
       "      <td>1</td>\n",
       "      <td>0</td>\n",
       "      <td>1</td>\n",
       "      <td>0</td>\n",
       "      <td>1</td>\n",
       "      <td>1</td>\n",
       "      <td>1</td>\n",
       "    </tr>\n",
       "    <tr>\n",
       "      <th>1947.0</th>\n",
       "      <td>1</td>\n",
       "      <td>0</td>\n",
       "      <td>1</td>\n",
       "      <td>1</td>\n",
       "      <td>1</td>\n",
       "      <td>1</td>\n",
       "      <td>1</td>\n",
       "    </tr>\n",
       "    <tr>\n",
       "      <th>1949.0</th>\n",
       "      <td>1</td>\n",
       "      <td>1</td>\n",
       "      <td>1</td>\n",
       "      <td>1</td>\n",
       "      <td>1</td>\n",
       "      <td>1</td>\n",
       "      <td>1</td>\n",
       "    </tr>\n",
       "    <tr>\n",
       "      <th>1950.0</th>\n",
       "      <td>2</td>\n",
       "      <td>2</td>\n",
       "      <td>2</td>\n",
       "      <td>2</td>\n",
       "      <td>2</td>\n",
       "      <td>0</td>\n",
       "      <td>2</td>\n",
       "    </tr>\n",
       "  </tbody>\n",
       "</table>\n",
       "</div>"
      ],
      "text/plain": [
       "          orcid_id  country_2016  earliest_year  earliest_country  has_phd  \\\n",
       "phd_year                                                                     \n",
       "1913.0           1             0              1                 0        1   \n",
       "1941.0           1             0              1                 0        1   \n",
       "1947.0           1             0              1                 1        1   \n",
       "1949.0           1             1              1                 1        1   \n",
       "1950.0           2             2              2                 2        2   \n",
       "\n",
       "          phd_country  has_migrated  \n",
       "phd_year                             \n",
       "1913.0              1             1  \n",
       "1941.0              1             1  \n",
       "1947.0              1             1  \n",
       "1949.0              1             1  \n",
       "1950.0              0             2  "
      ]
     },
     "execution_count": 40,
     "metadata": {},
     "output_type": "execute_result"
    }
   ],
   "source": [
    "GraduatedYear.head(5)"
   ]
  },
  {
   "cell_type": "code",
   "execution_count": 41,
   "metadata": {
    "collapsed": true
   },
   "outputs": [],
   "source": [
    "GraduatedYearHasMigrated = GraduatedYear[GraduatedYear['has_migrated']==True]"
   ]
  },
  {
   "cell_type": "code",
   "execution_count": 42,
   "metadata": {},
   "outputs": [
    {
     "data": {
      "image/png": "[encoded data removed]",
      "text/plain": [
       "<matplotlib.figure.Figure at 0x2505b659390>"
      ]
     },
     "metadata": {},
     "output_type": "display_data"
    }
   ],
   "source": [
    "GraduatedYearHasMigrated.hist(bins=10, figsize=(15,12), alpha=0.5 )\n",
    "plt.show()"
   ]
  },
  {
   "cell_type": "markdown",
   "metadata": {},
   "source": [
    "# - Europe\n",
    "# . From  Italy, France and United Kingdom"
   ]
  },
  {
   "cell_type": "code",
   "execution_count": 43,
   "metadata": {
    "collapsed": true
   },
   "outputs": [],
   "source": [
    "Df_it = Df[Df['phd_country']=='IT']\n",
    "Df_france = Df[Df['phd_country']=='FR']\n",
    "Df_gb = Df[Df['phd_country']=='GB']"
   ]
  },
  {
   "cell_type": "code",
   "execution_count": 44,
   "metadata": {
    "collapsed": true
   },
   "outputs": [],
   "source": [
    "Df1 = Df_it.groupby('has_migrated').count()\n",
    "Df2 = Df_france.groupby('has_migrated').count()\n",
    "Df3 = Df_gb.groupby('has_migrated').count()"
   ]
  },
  {
   "cell_type": "code",
   "execution_count": 45,
   "metadata": {},
   "outputs": [
    {
     "data": {
      "image/png": "[encoded data removed]",
      "text/plain": [
       "<matplotlib.figure.Figure at 0x2505ba550f0>"
      ]
     },
     "metadata": {},
     "output_type": "display_data"
    }
   ],
   "source": [
    "fig = plt.figure(figsize=(12,12))\n",
    "#explode = (0.,0.1)\n",
    "ax = fig.add_subplot(3,3,1)\n",
    "Df1['orcid_id'].plot( kind='bar', alpha=0.5)\n",
    "ax.spines['right'].set_visible(False)\n",
    "ax.spines['top'].set_visible(False)\n",
    "plt.title('Migration of Italian Phds')\n",
    "\n",
    "ax = fig.add_subplot(3,3,2)\n",
    "Df2['orcid_id'].plot( kind='bar', alpha=0.5)\n",
    "ax.spines['right'].set_visible(False)\n",
    "ax.spines['top'].set_visible(False)\n",
    "plt.title('Migration of French Phds')\n",
    "\n",
    "ax = fig.add_subplot(3,3,3)\n",
    "Df3['orcid_id'].plot( kind='bar', alpha=0.5)\n",
    "ax.spines['right'].set_visible(False)\n",
    "ax.spines['top'].set_visible(False)\n",
    "plt.title('Migration of British Phds')\n",
    "plt.show()"
   ]
  },
  {
   "cell_type": "code",
   "execution_count": 46,
   "metadata": {
    "collapsed": true
   },
   "outputs": [],
   "source": [
    "Phd_it_migrated = Df_it[Df_it['has_migrated']==True ]\n",
    "Phd_france_migrated = Df_france[Df_france['has_migrated']==True ]\n",
    "Phd_gb_migrated = Df_gb[Df_gb['has_migrated']==True ]"
   ]
  },
  {
   "cell_type": "code",
   "execution_count": 47,
   "metadata": {
    "collapsed": true
   },
   "outputs": [],
   "source": [
    "Phd_it_mig = Phd_it_migrated.groupby('phd_year').count()\n",
    "Phd_france_mig = Phd_france_migrated.groupby('phd_year').count()\n",
    "Phd_gb_mig = Phd_gb_migrated.groupby('phd_year').count()"
   ]
  },
  {
   "cell_type": "code",
   "execution_count": 48,
   "metadata": {
    "collapsed": true
   },
   "outputs": [],
   "source": [
    "X1 = list(Phd_it_mig.index.values)[:-1]\n",
    "X2 = list(Phd_france_mig.index.values)[:-1]\n",
    "X3 = list(Phd_gb_mig.index.values)[:-1]"
   ]
  },
  {
   "cell_type": "code",
   "execution_count": 49,
   "metadata": {
    "collapsed": true
   },
   "outputs": [],
   "source": [
    "y_1 = Phd_it_mig['has_migrated'].iloc[:-1]\n",
    "y_2 = Phd_france_mig['has_migrated'].iloc[:-1]\n",
    "y_3 = Phd_gb_mig['has_migrated'].iloc[:-1]"
   ]
  },
  {
   "cell_type": "code",
   "execution_count": 50,
   "metadata": {},
   "outputs": [
    {
     "data": {
      "image/png": "[encoded data removed]",
      "text/plain": [
       "<matplotlib.figure.Figure at 0x2505b7de7b8>"
      ]
     },
     "metadata": {},
     "output_type": "display_data"
    }
   ],
   "source": [
    "fig = plt.figure(figsize=(15,9))\n",
    "ax = fig.add_subplot(2,3,1)\n",
    "ax.plot(X1, y_1, c='blue')\n",
    "ax.spines['right'].set_visible(False)\n",
    "ax.spines['top'].set_visible(False)\n",
    "ax.set_ylabel('Number of phds migrated')\n",
    "\n",
    "ax.set_title('Italy')\n",
    "#ax.tick_params(bottom='off', top='off', left='off', right='off')\n",
    "\n",
    "ax = fig.add_subplot(2,3,2)\n",
    "ax.plot(X2, y_2, c='green')\n",
    "ax.spines['right'].set_visible(False)\n",
    "ax.spines['top'].set_visible(False)\n",
    "\n",
    "ax.set_title('France')\n",
    "#ax.tick_params(bottom='off', top='off', left='off', right='off')\n",
    "\n",
    "ax = fig.add_subplot(2,3,3)\n",
    "ax.plot(X2, y_2, c='red')\n",
    "ax.spines['right'].set_visible(False)\n",
    "ax.spines['top'].set_visible(False)\n",
    "\n",
    "ax.set_title('United Kingdom')\n",
    "#ax.tick_params(bottom='off', top='off', left='off', right='off')\n",
    "\n",
    "\n",
    "\n",
    "plt.show()\n"
   ]
  },
  {
   "cell_type": "markdown",
   "metadata": {},
   "source": [
    "# - Nord America\n",
    "# . From USA and Canada"
   ]
  },
  {
   "cell_type": "code",
   "execution_count": 51,
   "metadata": {
    "collapsed": true
   },
   "outputs": [],
   "source": [
    "Df_usa = Df[Df['phd_country']=='US']\n",
    "Df_canada = Df[Df['phd_country']=='CA']"
   ]
  },
  {
   "cell_type": "code",
   "execution_count": 52,
   "metadata": {
    "collapsed": true
   },
   "outputs": [],
   "source": [
    "Df1 = Df_usa.groupby('has_migrated').count()\n",
    "Df2 = Df_canada.groupby('has_migrated').count()"
   ]
  },
  {
   "cell_type": "code",
   "execution_count": 53,
   "metadata": {},
   "outputs": [
    {
     "data": {
      "image/png": "[encoded data removed]",
      "text/plain": [
       "<matplotlib.figure.Figure at 0x2505becd710>"
      ]
     },
     "metadata": {},
     "output_type": "display_data"
    }
   ],
   "source": [
    "fig = plt.figure(figsize=(8,8))\n",
    "explode = (0.,0.1)\n",
    "ax = fig.add_subplot(2,2,1)\n",
    "Df1['orcid_id'].plot( kind='bar', alpha=0.5)\n",
    "ax.spines['right'].set_visible(False)\n",
    "ax.spines['top'].set_visible(False)\n",
    "ax.set_ylabel('Number of has phds')\n",
    "plt.title('Migration of American Phds')\n",
    "\n",
    "ax = fig.add_subplot(2,2,2)\n",
    "Df2['orcid_id'].plot( kind='bar', alpha=0.5)\n",
    "ax.spines['right'].set_visible(False)\n",
    "ax.spines['top'].set_visible(False)\n",
    "plt.title('Migration of Canadian Phds')\n",
    "plt.show()"
   ]
  },
  {
   "cell_type": "code",
   "execution_count": 54,
   "metadata": {
    "collapsed": true
   },
   "outputs": [],
   "source": [
    "Phd_usa_migrated = Df_usa[Df_usa['has_migrated']==True ]\n",
    "Phd_canada_migrated = Df_canada[Df_canada['has_migrated']==True ]"
   ]
  },
  {
   "cell_type": "code",
   "execution_count": 55,
   "metadata": {
    "collapsed": true
   },
   "outputs": [],
   "source": [
    "Phd_usa_mig = Phd_usa_migrated.groupby('phd_year').count()\n",
    "Phd_canada_mig = Phd_canada_migrated.groupby('phd_year').count()"
   ]
  },
  {
   "cell_type": "code",
   "execution_count": 56,
   "metadata": {
    "collapsed": true
   },
   "outputs": [],
   "source": [
    "X1 = list(Phd_usa_mig.index.values)[:-1]\n",
    "X2 = list(Phd_canada_mig.index.values)[:-1]"
   ]
  },
  {
   "cell_type": "code",
   "execution_count": 57,
   "metadata": {
    "collapsed": true
   },
   "outputs": [],
   "source": [
    "y_1 = Phd_usa_mig['has_migrated'].iloc[:-1]\n",
    "y_2 = Phd_canada_mig['has_migrated'].iloc[:-1]"
   ]
  },
  {
   "cell_type": "code",
   "execution_count": 58,
   "metadata": {},
   "outputs": [
    {
     "data": {
      "image/png": "[encoded data removed]",
      "text/plain": [
       "<matplotlib.figure.Figure at 0x25061651cc0>"
      ]
     },
     "metadata": {},
     "output_type": "display_data"
    }
   ],
   "source": [
    "fig = plt.figure(figsize=(12,9))\n",
    "ax = fig.add_subplot(2,2,1)\n",
    "ax.plot(X1, y_1, c='blue')\n",
    "ax.spines['right'].set_visible(False)\n",
    "ax.spines['top'].set_visible(False)\n",
    "ax.set_ylabel('Number of phds migrated')\n",
    "\n",
    "ax.set_title('USA')\n",
    "#ax.tick_params(bottom='off', top='off', left='off', right='off')\n",
    "\n",
    "ax = fig.add_subplot(2,2,2)\n",
    "ax.plot(X2, y_2, c='green')\n",
    "ax.spines['right'].set_visible(False)\n",
    "ax.spines['top'].set_visible(False)\n",
    "\n",
    "ax.set_title('Canada')\n",
    "#ax.tick_params(bottom='off', top='off', left='off', right='off')\n",
    "\n",
    "plt.show()"
   ]
  },
  {
   "cell_type": "markdown",
   "metadata": {},
   "source": [
    "# - Asia\n",
    "# . From China and India "
   ]
  },
  {
   "cell_type": "code",
   "execution_count": 59,
   "metadata": {
    "collapsed": true
   },
   "outputs": [],
   "source": [
    "#China and India\n",
    "Df_china = Df[Df['phd_country']=='CN']\n",
    "Df_india = Df[Df['phd_country']=='IN']"
   ]
  },
  {
   "cell_type": "code",
   "execution_count": 60,
   "metadata": {
    "collapsed": true
   },
   "outputs": [],
   "source": [
    "Df1 = Df_china.groupby('has_migrated').count()\n",
    "Df2 = Df_india.groupby('has_migrated').count()"
   ]
  },
  {
   "cell_type": "code",
   "execution_count": 61,
   "metadata": {},
   "outputs": [
    {
     "data": {
      "image/png": "[encoded data removed]",
      "text/plain": [
       "<matplotlib.figure.Figure at 0x25068815e10>"
      ]
     },
     "metadata": {},
     "output_type": "display_data"
    }
   ],
   "source": [
    "fig = plt.figure(figsize=(8,8))\n",
    "explode = (0.,0.1)\n",
    "ax = fig.add_subplot(2,2,1)\n",
    "Df1['orcid_id'].plot( kind='bar', alpha=0.5)\n",
    "ax.spines['right'].set_visible(False)\n",
    "ax.spines['top'].set_visible(False)\n",
    "ax.set_ylabel('Number of has phds')\n",
    "plt.title('Migration of Chinese Phds')\n",
    "\n",
    "ax = fig.add_subplot(2,2,2)\n",
    "Df2['orcid_id'].plot( kind='bar', alpha=0.5)\n",
    "ax.spines['right'].set_visible(False)\n",
    "ax.spines['top'].set_visible(False)\n",
    "#ax.spines['left'].set_visible(False)\n",
    "#ax.spines['bottom'].set_visible(False)\n",
    "plt.title('Migration of Indian Phds')\n",
    "plt.show()"
   ]
  },
  {
   "cell_type": "code",
   "execution_count": 62,
   "metadata": {
    "collapsed": true
   },
   "outputs": [],
   "source": [
    "Phd_china_migrated = Df_china[Df_china['has_migrated']==True ]\n",
    "Phd_india_migrated = Df_india[Df_india['has_migrated']==True ]"
   ]
  },
  {
   "cell_type": "code",
   "execution_count": 63,
   "metadata": {
    "collapsed": true
   },
   "outputs": [],
   "source": [
    "Phd_china_mig = Phd_china_migrated.groupby('phd_year').count()\n",
    "Phd_india_mig = Phd_india_migrated.groupby('phd_year').count()"
   ]
  },
  {
   "cell_type": "code",
   "execution_count": 64,
   "metadata": {
    "collapsed": true
   },
   "outputs": [],
   "source": [
    "X1 = list(Phd_china_mig.index.values)[:-1]\n",
    "X2 = list(Phd_india_mig.index.values)[:-1]"
   ]
  },
  {
   "cell_type": "code",
   "execution_count": 65,
   "metadata": {
    "collapsed": true
   },
   "outputs": [],
   "source": [
    "y_1 = Phd_china_mig['has_migrated'].iloc[:-1]\n",
    "y_2 = Phd_india_mig['has_migrated'].iloc[:-1]"
   ]
  },
  {
   "cell_type": "code",
   "execution_count": 66,
   "metadata": {},
   "outputs": [
    {
     "data": {
      "image/png": "[encoded data removed]",
      "text/plain": [
       "<matplotlib.figure.Figure at 0x2505b9b8898>"
      ]
     },
     "metadata": {},
     "output_type": "display_data"
    }
   ],
   "source": [
    "fig = plt.figure(figsize=(12,9))\n",
    "ax = fig.add_subplot(2,2,1)\n",
    "ax.plot(X1, y_1, c='blue')\n",
    "ax.spines['right'].set_visible(False)\n",
    "ax.spines['top'].set_visible(False)\n",
    "ax.set_ylabel('Number of phds migrated')\n",
    "\n",
    "ax.set_title('China')\n",
    "\n",
    "\n",
    "ax = fig.add_subplot(2,2,2)\n",
    "ax.plot(X2, y_2, c='green')\n",
    "ax.spines['right'].set_visible(False)\n",
    "ax.spines['top'].set_visible(False)\n",
    "\n",
    "ax.set_title('India')\n",
    "\n",
    "\n",
    "plt.show()\n"
   ]
  },
  {
   "cell_type": "markdown",
   "metadata": {},
   "source": [
    "# - Autralia and Brazil"
   ]
  },
  {
   "cell_type": "code",
   "execution_count": 67,
   "metadata": {
    "collapsed": true
   },
   "outputs": [],
   "source": [
    "Df_australia = Df[Df['phd_country']=='AU']\n",
    "Df_brazil = Df[Df['phd_country']=='BR']"
   ]
  },
  {
   "cell_type": "code",
   "execution_count": 68,
   "metadata": {
    "collapsed": true
   },
   "outputs": [],
   "source": [
    "Df1 = Df_australia.groupby('has_migrated').count()\n",
    "Df2 = Df_brazil.groupby('has_migrated').count()"
   ]
  },
  {
   "cell_type": "code",
   "execution_count": 69,
   "metadata": {},
   "outputs": [
    {
     "data": {
      "image/png": "[encoded data removed]",
      "text/plain": [
       "<matplotlib.figure.Figure at 0x2505bee30f0>"
      ]
     },
     "metadata": {},
     "output_type": "display_data"
    }
   ],
   "source": [
    "fig = plt.figure(figsize=(8,8))\n",
    "ax = fig.add_subplot(2,2,1)\n",
    "Df1['orcid_id'].plot( kind='bar', alpha=0.5)\n",
    "ax.spines['right'].set_visible(False)\n",
    "ax.spines['top'].set_visible(False)\n",
    "ax.set_ylabel('Number of has phds')\n",
    "plt.title('Migration of Australian Phds')\n",
    "\n",
    "ax = fig.add_subplot(2,2,2)\n",
    "Df2['orcid_id'].plot( kind='bar', alpha=0.5)\n",
    "ax.spines['right'].set_visible(False)\n",
    "ax.spines['top'].set_visible(False)\n",
    "plt.title('Migration of Brazilian Phds')\n",
    "\n",
    "plt.show()"
   ]
  },
  {
   "cell_type": "code",
   "execution_count": 70,
   "metadata": {
    "collapsed": true
   },
   "outputs": [],
   "source": [
    "Phd_australia_migrated = Df_australia[Df_australia['has_migrated']==True ]\n",
    "Phd_brazil_migrated = Df_brazil[Df_brazil['has_migrated']==True ]"
   ]
  },
  {
   "cell_type": "code",
   "execution_count": 71,
   "metadata": {
    "collapsed": true
   },
   "outputs": [],
   "source": [
    "Phd_australia_mig = Phd_australia_migrated.groupby('phd_year').count()\n",
    "Phd_brazil_mig = Phd_brazil_migrated.groupby('phd_year').count()"
   ]
  },
  {
   "cell_type": "code",
   "execution_count": 72,
   "metadata": {
    "collapsed": true
   },
   "outputs": [],
   "source": [
    "X1 = list(Phd_australia_mig.index.values)[:-1]\n",
    "X2 = list(Phd_brazil_mig.index.values)[:-1]"
   ]
  },
  {
   "cell_type": "code",
   "execution_count": 73,
   "metadata": {
    "collapsed": true
   },
   "outputs": [],
   "source": [
    "y_1 = Phd_australia_mig['has_migrated'].iloc[:-1]\n",
    "y_2 = Phd_brazil_mig['has_migrated'].iloc[:-1]"
   ]
  },
  {
   "cell_type": "code",
   "execution_count": 74,
   "metadata": {},
   "outputs": [
    {
     "data": {
      "image/png": "[encoded data removed]",
      "text/plain": [
       "<matplotlib.figure.Figure at 0x2505b6ed6d8>"
      ]
     },
     "metadata": {},
     "output_type": "display_data"
    }
   ],
   "source": [
    "fig = plt.figure(figsize=(10,8))\n",
    "ax = fig.add_subplot(2,2,1)\n",
    "ax.plot(X1, y_1, c='blue')\n",
    "ax.spines['right'].set_visible(False)\n",
    "ax.spines['top'].set_visible(False)\n",
    "ax.set_ylabel('Number of phds migrated')\n",
    "\n",
    "ax.set_title('Australia')\n",
    "\n",
    "ax = fig.add_subplot(2,2,2)\n",
    "ax.plot(X2, y_2, c='blue')\n",
    "ax.spines['right'].set_visible(False)\n",
    "ax.spines['top'].set_visible(False)\n",
    "\n",
    "\n",
    "ax.set_title('Brazil')\n",
    "\n",
    "plt.show()"
   ]
  },
  {
   "cell_type": "markdown",
   "metadata": {},
   "source": [
    "# 4-  Phds countries"
   ]
  },
  {
   "cell_type": "code",
   "execution_count": 75,
   "metadata": {
    "collapsed": true
   },
   "outputs": [],
   "source": [
    "test = Df.groupby('phd_country').count()['orcid_id'].sort_values(ascending=False)\n",
    "listCountry = test[:15].index\n",
    "DfTest = Df.copy()"
   ]
  },
  {
   "cell_type": "code",
   "execution_count": 76,
   "metadata": {
    "collapsed": true
   },
   "outputs": [],
   "source": [
    "def otherCountry(x):\n",
    "    if x in listCountry:\n",
    "        return x\n",
    "    elif x!= x:\n",
    "        return 'Unknown'\n",
    "    else:\n",
    "        return 'Other'"
   ]
  },
  {
   "cell_type": "code",
   "execution_count": 77,
   "metadata": {},
   "outputs": [
    {
     "data": {
      "image/png": "[encoded data removed]",
      "text/plain": [
       "<matplotlib.figure.Figure at 0x2505b94e438>"
      ]
     },
     "metadata": {},
     "output_type": "display_data"
    }
   ],
   "source": [
    "DfTest['phd_country'] = [otherCountry(x) for x in Df['phd_country']]\n",
    "DfTest.groupby('phd_country').count()['orcid_id'].plot(figsize=(6,6), kind='pie', autopct='%1.1f%%')\n",
    "plt.show()"
   ]
  },
  {
   "cell_type": "markdown",
   "metadata": {},
   "source": [
    " I notice that the  unknown phd  countries is 57.4% which is too much. But below I make some visualization for known  phds countries "
   ]
  },
  {
   "cell_type": "code",
   "execution_count": 78,
   "metadata": {
    "collapsed": true
   },
   "outputs": [],
   "source": [
    "DfKnownCountries = DfTest[DfTest['phd_country']!='Unknown'].groupby('phd_country').count()"
   ]
  },
  {
   "cell_type": "code",
   "execution_count": 79,
   "metadata": {},
   "outputs": [
    {
     "name": "stdout",
     "output_type": "stream",
     "text": [
      "<class 'pandas.core.frame.DataFrame'>\n",
      "Index: 16 entries, AU to US\n",
      "Data columns (total 7 columns):\n",
      "orcid_id            16 non-null int64\n",
      "phd_year            16 non-null int64\n",
      "country_2016        16 non-null int64\n",
      "earliest_year       16 non-null int64\n",
      "earliest_country    16 non-null int64\n",
      "has_phd             16 non-null int64\n",
      "has_migrated        16 non-null int64\n",
      "dtypes: int64(7)\n",
      "memory usage: 1.0+ KB\n"
     ]
    }
   ],
   "source": [
    "DfKnownCountries.info()"
   ]
  },
  {
   "cell_type": "code",
   "execution_count": 80,
   "metadata": {},
   "outputs": [
    {
     "data": {
      "text/html": [
       "<div>\n",
       "<style>\n",
       "    .dataframe thead tr:only-child th {\n",
       "        text-align: right;\n",
       "    }\n",
       "\n",
       "    .dataframe thead th {\n",
       "        text-align: left;\n",
       "    }\n",
       "\n",
       "    .dataframe tbody tr th {\n",
       "        vertical-align: top;\n",
       "    }\n",
       "</style>\n",
       "<table border=\"1\" class=\"dataframe\">\n",
       "  <thead>\n",
       "    <tr style=\"text-align: right;\">\n",
       "      <th></th>\n",
       "      <th>orcid_id</th>\n",
       "      <th>phd_year</th>\n",
       "      <th>country_2016</th>\n",
       "      <th>earliest_year</th>\n",
       "      <th>earliest_country</th>\n",
       "      <th>has_phd</th>\n",
       "      <th>has_migrated</th>\n",
       "    </tr>\n",
       "    <tr>\n",
       "      <th>phd_country</th>\n",
       "      <th></th>\n",
       "      <th></th>\n",
       "      <th></th>\n",
       "      <th></th>\n",
       "      <th></th>\n",
       "      <th></th>\n",
       "      <th></th>\n",
       "    </tr>\n",
       "  </thead>\n",
       "  <tbody>\n",
       "    <tr>\n",
       "      <th>AU</th>\n",
       "      <td>13584</td>\n",
       "      <td>12759</td>\n",
       "      <td>10724</td>\n",
       "      <td>12759</td>\n",
       "      <td>12233</td>\n",
       "      <td>13584</td>\n",
       "      <td>13584</td>\n",
       "    </tr>\n",
       "    <tr>\n",
       "      <th>BR</th>\n",
       "      <td>9862</td>\n",
       "      <td>9429</td>\n",
       "      <td>8180</td>\n",
       "      <td>9429</td>\n",
       "      <td>9381</td>\n",
       "      <td>9862</td>\n",
       "      <td>9862</td>\n",
       "    </tr>\n",
       "    <tr>\n",
       "      <th>CA</th>\n",
       "      <td>8033</td>\n",
       "      <td>7591</td>\n",
       "      <td>6148</td>\n",
       "      <td>7591</td>\n",
       "      <td>7368</td>\n",
       "      <td>8033</td>\n",
       "      <td>8033</td>\n",
       "    </tr>\n",
       "    <tr>\n",
       "      <th>CN</th>\n",
       "      <td>16221</td>\n",
       "      <td>14780</td>\n",
       "      <td>12403</td>\n",
       "      <td>14780</td>\n",
       "      <td>14734</td>\n",
       "      <td>16221</td>\n",
       "      <td>16221</td>\n",
       "    </tr>\n",
       "    <tr>\n",
       "      <th>DE</th>\n",
       "      <td>5985</td>\n",
       "      <td>5748</td>\n",
       "      <td>4831</td>\n",
       "      <td>5748</td>\n",
       "      <td>5658</td>\n",
       "      <td>5985</td>\n",
       "      <td>5985</td>\n",
       "    </tr>\n",
       "    <tr>\n",
       "      <th>ES</th>\n",
       "      <td>21099</td>\n",
       "      <td>19273</td>\n",
       "      <td>15675</td>\n",
       "      <td>19273</td>\n",
       "      <td>18394</td>\n",
       "      <td>21099</td>\n",
       "      <td>21099</td>\n",
       "    </tr>\n",
       "    <tr>\n",
       "      <th>FR</th>\n",
       "      <td>8515</td>\n",
       "      <td>8132</td>\n",
       "      <td>6754</td>\n",
       "      <td>8132</td>\n",
       "      <td>7960</td>\n",
       "      <td>8515</td>\n",
       "      <td>8515</td>\n",
       "    </tr>\n",
       "    <tr>\n",
       "      <th>GB</th>\n",
       "      <td>31294</td>\n",
       "      <td>30150</td>\n",
       "      <td>24459</td>\n",
       "      <td>30150</td>\n",
       "      <td>29522</td>\n",
       "      <td>31294</td>\n",
       "      <td>31294</td>\n",
       "    </tr>\n",
       "    <tr>\n",
       "      <th>IN</th>\n",
       "      <td>17444</td>\n",
       "      <td>16008</td>\n",
       "      <td>13616</td>\n",
       "      <td>16008</td>\n",
       "      <td>15866</td>\n",
       "      <td>17444</td>\n",
       "      <td>17444</td>\n",
       "    </tr>\n",
       "    <tr>\n",
       "      <th>IT</th>\n",
       "      <td>11557</td>\n",
       "      <td>10770</td>\n",
       "      <td>8818</td>\n",
       "      <td>10770</td>\n",
       "      <td>10508</td>\n",
       "      <td>11557</td>\n",
       "      <td>11557</td>\n",
       "    </tr>\n",
       "    <tr>\n",
       "      <th>JP</th>\n",
       "      <td>5719</td>\n",
       "      <td>5262</td>\n",
       "      <td>4442</td>\n",
       "      <td>5262</td>\n",
       "      <td>5203</td>\n",
       "      <td>5719</td>\n",
       "      <td>5719</td>\n",
       "    </tr>\n",
       "    <tr>\n",
       "      <th>KR</th>\n",
       "      <td>5192</td>\n",
       "      <td>4779</td>\n",
       "      <td>4117</td>\n",
       "      <td>4779</td>\n",
       "      <td>4744</td>\n",
       "      <td>5192</td>\n",
       "      <td>5192</td>\n",
       "    </tr>\n",
       "    <tr>\n",
       "      <th>Other</th>\n",
       "      <td>74915</td>\n",
       "      <td>67958</td>\n",
       "      <td>56969</td>\n",
       "      <td>67958</td>\n",
       "      <td>66543</td>\n",
       "      <td>74915</td>\n",
       "      <td>74915</td>\n",
       "    </tr>\n",
       "    <tr>\n",
       "      <th>PT</th>\n",
       "      <td>8765</td>\n",
       "      <td>8250</td>\n",
       "      <td>6594</td>\n",
       "      <td>8250</td>\n",
       "      <td>7833</td>\n",
       "      <td>8765</td>\n",
       "      <td>8765</td>\n",
       "    </tr>\n",
       "    <tr>\n",
       "      <th>SE</th>\n",
       "      <td>6501</td>\n",
       "      <td>6072</td>\n",
       "      <td>4874</td>\n",
       "      <td>6072</td>\n",
       "      <td>5786</td>\n",
       "      <td>6501</td>\n",
       "      <td>6501</td>\n",
       "    </tr>\n",
       "    <tr>\n",
       "      <th>US</th>\n",
       "      <td>71031</td>\n",
       "      <td>67454</td>\n",
       "      <td>55214</td>\n",
       "      <td>67454</td>\n",
       "      <td>65278</td>\n",
       "      <td>71031</td>\n",
       "      <td>71031</td>\n",
       "    </tr>\n",
       "  </tbody>\n",
       "</table>\n",
       "</div>"
      ],
      "text/plain": [
       "             orcid_id  phd_year  country_2016  earliest_year  \\\n",
       "phd_country                                                    \n",
       "AU              13584     12759         10724          12759   \n",
       "BR               9862      9429          8180           9429   \n",
       "CA               8033      7591          6148           7591   \n",
       "CN              16221     14780         12403          14780   \n",
       "DE               5985      5748          4831           5748   \n",
       "ES              21099     19273         15675          19273   \n",
       "FR               8515      8132          6754           8132   \n",
       "GB              31294     30150         24459          30150   \n",
       "IN              17444     16008         13616          16008   \n",
       "IT              11557     10770          8818          10770   \n",
       "JP               5719      5262          4442           5262   \n",
       "KR               5192      4779          4117           4779   \n",
       "Other           74915     67958         56969          67958   \n",
       "PT               8765      8250          6594           8250   \n",
       "SE               6501      6072          4874           6072   \n",
       "US              71031     67454         55214          67454   \n",
       "\n",
       "             earliest_country  has_phd  has_migrated  \n",
       "phd_country                                           \n",
       "AU                      12233    13584         13584  \n",
       "BR                       9381     9862          9862  \n",
       "CA                       7368     8033          8033  \n",
       "CN                      14734    16221         16221  \n",
       "DE                       5658     5985          5985  \n",
       "ES                      18394    21099         21099  \n",
       "FR                       7960     8515          8515  \n",
       "GB                      29522    31294         31294  \n",
       "IN                      15866    17444         17444  \n",
       "IT                      10508    11557         11557  \n",
       "JP                       5203     5719          5719  \n",
       "KR                       4744     5192          5192  \n",
       "Other                   66543    74915         74915  \n",
       "PT                       7833     8765          8765  \n",
       "SE                       5786     6501          6501  \n",
       "US                      65278    71031         71031  "
      ]
     },
     "execution_count": 80,
     "metadata": {},
     "output_type": "execute_result"
    }
   ],
   "source": [
    "DfKnownCountries"
   ]
  },
  {
   "cell_type": "code",
   "execution_count": 81,
   "metadata": {},
   "outputs": [
    {
     "data": {
      "image/png": "[encoded data removed]",
      "text/plain": [
       "<matplotlib.figure.Figure at 0x2505bf65908>"
      ]
     },
     "metadata": {},
     "output_type": "display_data"
    }
   ],
   "source": [
    "DfKnownCountries['orcid_id'].plot(figsize=(6,6), kind='pie')\n",
    "plt.title('Phd researchers number with rescpect to contries')\n",
    "plt.show()"
   ]
  },
  {
   "cell_type": "code",
   "execution_count": 82,
   "metadata": {},
   "outputs": [
    {
     "data": {
      "image/png": "[encoded data removed]",
      "text/plain": [
       "<matplotlib.figure.Figure at 0x2505b7e0390>"
      ]
     },
     "metadata": {},
     "output_type": "display_data"
    }
   ],
   "source": [
    "Df_countries = DfKnownCountries['orcid_id'].sort_values(ascending=True)\n",
    "Df_countries.plot(figsize=(10,10), kind='barh', color='blue', alpha = 0.3 )\n",
    "plt.title('Number of Phd researchers with respect to their contries')\n",
    "\n",
    "plt.show()"
   ]
  },
  {
   "cell_type": "markdown",
   "metadata": {},
   "source": [
    "## Here is the mapping of number of Phd Scientific Researchers with respect to countries"
   ]
  },
  {
   "cell_type": "code",
   "execution_count": 83,
   "metadata": {
    "collapsed": true
   },
   "outputs": [],
   "source": [
    "# I use the county codes to contruct the liste of country names\n",
    "countries = ['Korea, Republic of', 'Japan', 'Germany', 'Sweden', 'Canada', 'France', 'Portugal', 'Brazil', 'Italy', 'Australia', 'China', 'India', 'Espain', 'United Kingdom', 'United States']"
   ]
  },
  {
   "cell_type": "code",
   "execution_count": 84,
   "metadata": {
    "collapsed": true
   },
   "outputs": [],
   "source": [
    "Nb_phds = list(Df_countries.iloc[:-1])"
   ]
  },
  {
   "cell_type": "code",
   "execution_count": 85,
   "metadata": {},
   "outputs": [
    {
     "data": {
      "application/vnd.plotly.v1+json": {
       "data": [
        {
         "colorbar": {
          "autotick": true,
          "tickprefix": "",
          "title": "# Number of Phds"
         },
         "locationmode": "country names",
         "locations": [
          "Korea, Republic of",
          "Japan",
          "Germany",
          "Sweden",
          "Canada",
          "France",
          "Portugal",
          "Brazil",
          "Italy",
          "Australia",
          "China",
          "India",
          "Espain",
          "United Kingdom",
          "United States"
         ],
         "marker": {
          "line": {
           "color": "rgb(0,0,0)",
           "width": 1
          }
         },
         "text": [
          "Korea, Republic of",
          "Japan",
          "Germany",
          "Sweden",
          "Canada",
          "France",
          "Portugal",
          "Brazil",
          "Italy",
          "Australia",
          "China",
          "India",
          "Espain",
          "United Kingdom",
          "United States"
         ],
         "type": "choropleth",
         "z": [
          5192,
          5719,
          5985,
          6501,
          8033,
          8515,
          8765,
          9862,
          11557,
          13584,
          16221,
          17444,
          21099,
          31294,
          71031
         ]
        }
       ],
       "layout": {
        "geo": {
         "lataxis": {
          "gridcolor": "rgb(102, 102, 102)",
          "showgrid": true
         },
         "lonaxis": {
          "gridcolor": "rgb(102, 102, 102)",
          "showgrid": true
         },
         "oceancolor": "rgb(41, 135, 202)",
         "projection": {
          "rotation": {
           "lat": 10,
           "lon": 60
          },
          "type": "orthographic"
         },
         "showframe": false,
         "showocean": true
        },
        "title": " Number of Phds in countries"
       }
      },
      "text/html": [
       "<div id=\"1306804c-4a6b-4e6a-bc08-90bc22c80287\" style=\"height: 525px; width: 100%;\" class=\"plotly-graph-div\"></div><script type=\"text/javascript\">require([\"plotly\"], function(Plotly) { window.PLOTLYENV=window.PLOTLYENV || {};window.PLOTLYENV.BASE_URL=\"https://plot.ly\";Plotly.newPlot(\"1306804c-4a6b-4e6a-bc08-90bc22c80287\", [{\"type\": \"choropleth\", \"locations\": [\"Korea, Republic of\", \"Japan\", \"Germany\", \"Sweden\", \"Canada\", \"France\", \"Portugal\", \"Brazil\", \"Italy\", \"Australia\", \"China\", \"India\", \"Espain\", \"United Kingdom\", \"United States\"], \"z\": [5192, 5719, 5985, 6501, 8033, 8515, 8765, 9862, 11557, 13584, 16221, 17444, 21099, 31294, 71031], \"locationmode\": \"country names\", \"text\": [\"Korea, Republic of\", \"Japan\", \"Germany\", \"Sweden\", \"Canada\", \"France\", \"Portugal\", \"Brazil\", \"Italy\", \"Australia\", \"China\", \"India\", \"Espain\", \"United Kingdom\", \"United States\"], \"marker\": {\"line\": {\"color\": \"rgb(0,0,0)\", \"width\": 1}}, \"colorbar\": {\"autotick\": true, \"tickprefix\": \"\", \"title\": \"# Number of Phds\"}}], {\"title\": \" Number of Phds in countries\", \"geo\": {\"showframe\": false, \"showocean\": true, \"oceancolor\": \"rgb(41, 135, 202)\", \"projection\": {\"type\": \"orthographic\", \"rotation\": {\"lon\": 60, \"lat\": 10}}, \"lonaxis\": {\"showgrid\": true, \"gridcolor\": \"rgb(102, 102, 102)\"}, \"lataxis\": {\"showgrid\": true, \"gridcolor\": \"rgb(102, 102, 102)\"}}}, {\"showLink\": true, \"linkText\": \"Export to plot.ly\"})});</script>"
      ],
      "text/vnd.plotly.v1+html": [
       "<div id=\"1306804c-4a6b-4e6a-bc08-90bc22c80287\" style=\"height: 525px; width: 100%;\" class=\"plotly-graph-div\"></div><script type=\"text/javascript\">require([\"plotly\"], function(Plotly) { window.PLOTLYENV=window.PLOTLYENV || {};window.PLOTLYENV.BASE_URL=\"https://plot.ly\";Plotly.newPlot(\"1306804c-4a6b-4e6a-bc08-90bc22c80287\", [{\"type\": \"choropleth\", \"locations\": [\"Korea, Republic of\", \"Japan\", \"Germany\", \"Sweden\", \"Canada\", \"France\", \"Portugal\", \"Brazil\", \"Italy\", \"Australia\", \"China\", \"India\", \"Espain\", \"United Kingdom\", \"United States\"], \"z\": [5192, 5719, 5985, 6501, 8033, 8515, 8765, 9862, 11557, 13584, 16221, 17444, 21099, 31294, 71031], \"locationmode\": \"country names\", \"text\": [\"Korea, Republic of\", \"Japan\", \"Germany\", \"Sweden\", \"Canada\", \"France\", \"Portugal\", \"Brazil\", \"Italy\", \"Australia\", \"China\", \"India\", \"Espain\", \"United Kingdom\", \"United States\"], \"marker\": {\"line\": {\"color\": \"rgb(0,0,0)\", \"width\": 1}}, \"colorbar\": {\"autotick\": true, \"tickprefix\": \"\", \"title\": \"# Number of Phds\"}}], {\"title\": \" Number of Phds in countries\", \"geo\": {\"showframe\": false, \"showocean\": true, \"oceancolor\": \"rgb(41, 135, 202)\", \"projection\": {\"type\": \"orthographic\", \"rotation\": {\"lon\": 60, \"lat\": 10}}, \"lonaxis\": {\"showgrid\": true, \"gridcolor\": \"rgb(102, 102, 102)\"}, \"lataxis\": {\"showgrid\": true, \"gridcolor\": \"rgb(102, 102, 102)\"}}}, {\"showLink\": true, \"linkText\": \"Export to plot.ly\"})});</script>"
      ]
     },
     "metadata": {},
     "output_type": "display_data"
    }
   ],
   "source": [
    "data = [ dict(\n",
    "        type = 'choropleth',\n",
    "        locations = countries,\n",
    "        z = Nb_phds,\n",
    "        locationmode = 'country names',\n",
    "        text = countries,\n",
    "        marker = dict(\n",
    "            line = dict(color = 'rgb(0,0,0)', width = 1)),\n",
    "            colorbar = dict(autotick = True, tickprefix = '', \n",
    "            title = '# Number of Phds')\n",
    "            )\n",
    "       ]\n",
    "\n",
    "layout = dict(\n",
    "    title = ' Number of Phds in countries',\n",
    "    geo = dict(\n",
    "        showframe = False,\n",
    "        showocean = True,\n",
    "        oceancolor = 'rgb(41, 135, 202)',\n",
    "        projection = dict(\n",
    "        type = 'orthographic',\n",
    "            rotation = dict(\n",
    "                    lon = 60,\n",
    "                    lat = 10),\n",
    "        ),\n",
    "        lonaxis =  dict(\n",
    "                showgrid = True,\n",
    "                gridcolor = 'rgb(102, 102, 102)'\n",
    "            ),\n",
    "        lataxis = dict(\n",
    "                showgrid = True,\n",
    "                gridcolor = 'rgb(102, 102, 102)'\n",
    "                )\n",
    "            ),\n",
    "        )\n",
    "\n",
    "fig = dict(data=data, layout=layout)\n",
    "py.iplot(fig, validate=False, filename='worldmap')"
   ]
  },
  {
   "cell_type": "markdown",
   "metadata": {
    "collapsed": true
   },
   "source": [
    "# Conclusion:\n"
   ]
  },
  {
   "cell_type": "markdown",
   "metadata": {
    "collapsed": true
   },
   "source": [
    " The trend of the number of Scientist phds researcher in migration is increasing with a deep in 2015. I don't understand the cause of this deep point. I notice that USA is the country with the most phds graduates."
   ]
  }
 ],
 "metadata": {
  "kernelspec": {
   "display_name": "Python 3",
   "language": "python",
   "name": "python3"
  },
  "language_info": {
   "codemirror_mode": {
    "name": "ipython",
    "version": 3
   },
   "file_extension": ".py",
   "mimetype": "text/x-python",
   "name": "python",
   "nbconvert_exporter": "python",
   "pygments_lexer": "ipython3",
   "version": "3.6.1"
  }
 },
 "nbformat": 4,
 "nbformat_minor": 2
}
